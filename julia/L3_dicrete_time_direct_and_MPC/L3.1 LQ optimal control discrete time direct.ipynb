{
 "cells": [
  {
   "cell_type": "markdown",
   "metadata": {},
   "source": [
    "# Quadratically optimal control on a fixed and finite time horizon for a linear discrete-time system - direct formulations"
   ]
  },
  {
   "cell_type": "markdown",
   "metadata": {},
   "source": [
    "Here we consider a standard discrete-time LTI system modelled by state equations"
   ]
  },
  {
   "cell_type": "markdown",
   "metadata": {},
   "source": [
    "$$\\mathbf x_{k+1} = \\mathbf A \\mathbf x_k + \\mathbf B \\mathbf u_k,\\qquad \\mathbf x_0 = \\mathrm{given},$$"
   ]
  },
  {
   "cell_type": "markdown",
   "metadata": {},
   "source": [
    "where $\\mathbf x\\in\\mathbb{R}^n$, $\\mathbf u\\in\\mathbb{R}^m$, $\\mathbf A\\in\\mathbb{R}^{n\\times n}$ and $\\mathbf B\\in\\mathbb{R}^{n\\times m}$."
   ]
  },
  {
   "cell_type": "markdown",
   "metadata": {},
   "source": [
    "We want to minimize the popular quadratic criterion "
   ]
  },
  {
   "cell_type": "markdown",
   "metadata": {},
   "source": [
    " \n",
    "$$\\underset{\\mathbf u_0,\\ldots, \\mathbf u_{N-1}, (\\mathbf x_{0}),\\ldots, \\mathbf x_N}{\\mathrm{minimize}} \\quad \\frac{1}{2} \\mathbf x_N^T \\mathbf S \\mathbf x_N + \\frac{1}{2} \\sum_{k=0}^{N-1} \\left(\\mathbf x_k^T \\mathbf Q \\mathbf x_k + \\mathbf u_k^T \\mathbf R \\mathbf u_k \\right)$$"
   ]
  },
  {
   "cell_type": "markdown",
   "metadata": {},
   "source": [
    "for a given initial value vector $\\mathbf x_0\\in\\mathbb{R}^n$ and weighting matrices $\\mathbf S\\geq 0$, $\\mathbf Q\\geq 0$ and $\\mathbf R>0$. "
   ]
  },
  {
   "cell_type": "markdown",
   "metadata": {},
   "source": [
    "Below we reformulate the optimal control problem as a numerical optimization problem. We offer two formulations: simultaneous and sequential."
   ]
  },
  {
   "cell_type": "markdown",
   "metadata": {},
   "source": [
    "## Simultaneous (sparse) formulation"
   ]
  },
  {
   "cell_type": "markdown",
   "metadata": {},
   "source": [
    "The adjective comes from the fact that we solve the optimization over the states $x$ and controls $u$ simultaneously. It is also refered to as sparse because the corresponding matrices are sparse, which can be exploited by numerical solvers."
   ]
  },
  {
   "cell_type": "code",
   "execution_count": 1,
   "metadata": {},
   "outputs": [],
   "source": [
    "using LinearAlgebra"
   ]
  },
  {
   "cell_type": "markdown",
   "metadata": {},
   "source": [
    "### Building the linear discrete-time dynamical system to be controlled"
   ]
  },
  {
   "cell_type": "markdown",
   "metadata": {},
   "source": [
    "Discrete-time model of a double integrator"
   ]
  },
  {
   "cell_type": "code",
   "execution_count": 2,
   "metadata": {},
   "outputs": [
    {
     "data": {
      "text/plain": [
       "2×2 Array{Float64,2}:\n",
       " 1.0  1.0\n",
       " 0.0  1.0"
      ]
     },
     "execution_count": 2,
     "metadata": {},
     "output_type": "execute_result"
    }
   ],
   "source": [
    "A = [1.0 1.0;0.0 1.0]"
   ]
  },
  {
   "cell_type": "code",
   "execution_count": 3,
   "metadata": {},
   "outputs": [
    {
     "data": {
      "text/plain": [
       "2-element Array{Float64,1}:\n",
       " 0.0\n",
       " 1.0"
      ]
     },
     "execution_count": 3,
     "metadata": {},
     "output_type": "execute_result"
    }
   ],
   "source": [
    "B = [0.0, 1.0]"
   ]
  },
  {
   "cell_type": "markdown",
   "metadata": {},
   "source": [
    "Number of states"
   ]
  },
  {
   "cell_type": "code",
   "execution_count": 4,
   "metadata": {},
   "outputs": [
    {
     "data": {
      "text/plain": [
       "2"
      ]
     },
     "execution_count": 4,
     "metadata": {},
     "output_type": "execute_result"
    }
   ],
   "source": [
    "n = 2"
   ]
  },
  {
   "cell_type": "markdown",
   "metadata": {},
   "source": [
    "Number of inputs"
   ]
  },
  {
   "cell_type": "code",
   "execution_count": 5,
   "metadata": {},
   "outputs": [
    {
     "data": {
      "text/plain": [
       "1"
      ]
     },
     "execution_count": 5,
     "metadata": {},
     "output_type": "execute_result"
    }
   ],
   "source": [
    "m = 1"
   ]
  },
  {
   "cell_type": "markdown",
   "metadata": {},
   "source": [
    "An initial state"
   ]
  },
  {
   "cell_type": "code",
   "execution_count": 6,
   "metadata": {},
   "outputs": [
    {
     "data": {
      "text/plain": [
       "2-element Array{Int64,1}:\n",
       " 1\n",
       " 3"
      ]
     },
     "execution_count": 6,
     "metadata": {},
     "output_type": "execute_result"
    }
   ],
   "source": [
    "x0 = [1, 3] "
   ]
  },
  {
   "cell_type": "markdown",
   "metadata": {},
   "source": [
    "### Setting the discrete-time LQ optimal control problem"
   ]
  },
  {
   "cell_type": "markdown",
   "metadata": {},
   "source": [
    "First, we set the time horizon on which the control problem is solved. You are invited to experiment with this value."
   ]
  },
  {
   "cell_type": "code",
   "execution_count": 7,
   "metadata": {},
   "outputs": [
    {
     "data": {
      "text/plain": [
       "10"
      ]
     },
     "execution_count": 7,
     "metadata": {},
     "output_type": "execute_result"
    }
   ],
   "source": [
    "N = 10"
   ]
  },
  {
   "cell_type": "markdown",
   "metadata": {},
   "source": [
    "Within the quadratic cost function we restrict ourselves to diagonal matrices $S$, $Q$ and $R$. Practically speaking, this is not a serious restriction because we are not able to explot the fullness of those matrices anyway. The diagonals of the three matrices are"
   ]
  },
  {
   "cell_type": "code",
   "execution_count": 8,
   "metadata": {},
   "outputs": [
    {
     "data": {
      "text/plain": [
       "2-element Array{Int64,1}:\n",
       " 1\n",
       " 2"
      ]
     },
     "execution_count": 8,
     "metadata": {},
     "output_type": "execute_result"
    }
   ],
   "source": [
    "s = [1, 2]"
   ]
  },
  {
   "cell_type": "code",
   "execution_count": 9,
   "metadata": {},
   "outputs": [
    {
     "data": {
      "text/plain": [
       "2-element Array{Int64,1}:\n",
       " 1\n",
       " 2"
      ]
     },
     "execution_count": 9,
     "metadata": {},
     "output_type": "execute_result"
    }
   ],
   "source": [
    "q = [1, 2]"
   ]
  },
  {
   "cell_type": "code",
   "execution_count": 10,
   "metadata": {},
   "outputs": [
    {
     "data": {
      "text/plain": [
       "1-element Array{Int64,1}:\n",
       " 1"
      ]
     },
     "execution_count": 10,
     "metadata": {},
     "output_type": "execute_result"
    }
   ],
   "source": [
    "r = [1]"
   ]
  },
  {
   "cell_type": "markdown",
   "metadata": {},
   "source": [
    "Feel free to experiment with these numbers (and rerun the code)."
   ]
  },
  {
   "cell_type": "markdown",
   "metadata": {},
   "source": [
    "We assemble the matrices from the diagonals here."
   ]
  },
  {
   "cell_type": "code",
   "execution_count": 11,
   "metadata": {},
   "outputs": [
    {
     "data": {
      "text/plain": [
       "2×2 Array{Int64,2}:\n",
       " 1  0\n",
       " 0  2"
      ]
     },
     "execution_count": 11,
     "metadata": {},
     "output_type": "execute_result"
    }
   ],
   "source": [
    "S = diagm(0=>s)"
   ]
  },
  {
   "cell_type": "code",
   "execution_count": 12,
   "metadata": {},
   "outputs": [
    {
     "data": {
      "text/plain": [
       "2×2 Array{Int64,2}:\n",
       " 1  0\n",
       " 0  2"
      ]
     },
     "execution_count": 12,
     "metadata": {},
     "output_type": "execute_result"
    }
   ],
   "source": [
    "Q = diagm(0=>q)"
   ]
  },
  {
   "cell_type": "code",
   "execution_count": 13,
   "metadata": {},
   "outputs": [
    {
     "data": {
      "text/plain": [
       "1×1 Array{Int64,2}:\n",
       " 1"
      ]
     },
     "execution_count": 13,
     "metadata": {},
     "output_type": "execute_result"
    }
   ],
   "source": [
    "R = diagm(0=>r)"
   ]
  },
  {
   "cell_type": "markdown",
   "metadata": {},
   "source": [
    "### Formulating the quadratic optimization problem"
   ]
  },
  {
   "cell_type": "markdown",
   "metadata": {},
   "source": [
    "We will use some functionality for building block and sparse matrices"
   ]
  },
  {
   "cell_type": "code",
   "execution_count": 14,
   "metadata": {},
   "outputs": [],
   "source": [
    "using BlockArrays, SparseArrays"
   ]
  },
  {
   "cell_type": "code",
   "execution_count": 15,
   "metadata": {},
   "outputs": [],
   "source": [
    "Qbar = BlockArray(spzeros(N*n,N*n),repeat([n],N),repeat([n],N));"
   ]
  },
  {
   "cell_type": "code",
   "execution_count": 16,
   "metadata": {},
   "outputs": [],
   "source": [
    "for i=1:(N-1)\n",
    "    Qbar[Block(i,i)] = Q\n",
    "end"
   ]
  },
  {
   "cell_type": "code",
   "execution_count": 17,
   "metadata": {},
   "outputs": [
    {
     "data": {
      "text/plain": [
       "2×2 Array{Int64,2}:\n",
       " 1  0\n",
       " 0  2"
      ]
     },
     "execution_count": 17,
     "metadata": {},
     "output_type": "execute_result"
    }
   ],
   "source": [
    "Qbar[Block(N,N)] = S"
   ]
  },
  {
   "cell_type": "code",
   "execution_count": 18,
   "metadata": {},
   "outputs": [],
   "source": [
    "Rbar = BlockArray(spzeros(N*m,N*m),repeat([m],N),repeat([m],N));"
   ]
  },
  {
   "cell_type": "code",
   "execution_count": 19,
   "metadata": {},
   "outputs": [],
   "source": [
    "for i=1:N\n",
    "    Rbar[Block(i,i)] = R\n",
    "end"
   ]
  },
  {
   "cell_type": "code",
   "execution_count": 20,
   "metadata": {},
   "outputs": [],
   "source": [
    "Qtilde = blockdiag(sparse(Qbar),sparse(Rbar));"
   ]
  },
  {
   "cell_type": "code",
   "execution_count": 21,
   "metadata": {},
   "outputs": [],
   "source": [
    "Bbar = BlockArray(spzeros(N*n,N*m),repeat([n],N),repeat([m],N));"
   ]
  },
  {
   "cell_type": "code",
   "execution_count": 22,
   "metadata": {},
   "outputs": [],
   "source": [
    "for i=1:N\n",
    "    Bbar[Block(i,i)] = sparse(B)\n",
    "end"
   ]
  },
  {
   "cell_type": "code",
   "execution_count": 23,
   "metadata": {},
   "outputs": [],
   "source": [
    "Abar = BlockArray(sparse(-1.0*I,n*N,n*N),repeat([n],N),repeat([n],N));"
   ]
  },
  {
   "cell_type": "code",
   "execution_count": 24,
   "metadata": {},
   "outputs": [],
   "source": [
    "for i=2:N\n",
    "    Abar[Block(i,(i-1))] = sparse(A)\n",
    "end"
   ]
  },
  {
   "cell_type": "markdown",
   "metadata": {},
   "source": [
    "Note that here `Abar` is actually `Abar-I` from the lecture notes. I combined them into a single variable. "
   ]
  },
  {
   "cell_type": "code",
   "execution_count": 25,
   "metadata": {},
   "outputs": [],
   "source": [
    "Atilde = sparse([Abar Bbar]); "
   ]
  },
  {
   "cell_type": "code",
   "execution_count": 26,
   "metadata": {},
   "outputs": [],
   "source": [
    "A0bar = spzeros(n*N,n); A0bar[1:n,1:n] = A;"
   ]
  },
  {
   "cell_type": "code",
   "execution_count": 27,
   "metadata": {},
   "outputs": [],
   "source": [
    "btilde = A0bar*sparse(x0);"
   ]
  },
  {
   "cell_type": "markdown",
   "metadata": {},
   "source": [
    "### Solving the optimization problem"
   ]
  },
  {
   "cell_type": "markdown",
   "metadata": {},
   "source": [
    "We are about to solve the problem \n",
    "\\begin{align}\n",
    " \\underset{\\tilde{\\mathbf{x}}\\in\\mathbb{R}^{2N}}{\\text{minimize}} &\\qquad\\qquad \\frac{1}{2}\\tilde{\\mathbf{x}}^T \\tilde{\\mathbf{Q}} \\tilde{\\mathbf{x}}\\\\\n",
    " \\text {subject to} &\\qquad\\qquad \\tilde{\\mathbf{A}} \\tilde{\\mathbf{x}} + \\tilde{\\mathbf{b}} = \\mathbf 0.\n",
    " \\end{align}"
   ]
  },
  {
   "cell_type": "markdown",
   "metadata": {},
   "source": [
    "Here we can either proceed on our own and formulate the KKT linear system and solve it using a specialized solver for symmetric but possibly indefinite systems (relying on LDL factorization), or we can resort to calling some QP solver. We opt for the latter since we would be forced to do it as soon as we want to add some additional inequality-type constraints. We choose [Convex.jl](https://github.com/JuliaOpt/Convex.jl) package."
   ]
  },
  {
   "cell_type": "code",
   "execution_count": 28,
   "metadata": {},
   "outputs": [],
   "source": [
    "using Convex, SCS"
   ]
  },
  {
   "cell_type": "code",
   "execution_count": 29,
   "metadata": {},
   "outputs": [
    {
     "data": {
      "text/plain": [
       "Variable\n",
       "size: (30, 1)\n",
       "sign: real\n",
       "vexity: affine\n",
       "id: 876…048"
      ]
     },
     "execution_count": 29,
     "metadata": {},
     "output_type": "execute_result"
    }
   ],
   "source": [
    "xtilde = Variable((n+m)*N)"
   ]
  },
  {
   "cell_type": "code",
   "execution_count": 30,
   "metadata": {},
   "outputs": [
    {
     "data": {
      "text/plain": [
       "minimize\n",
       "└─ * (convex; positive)\n",
       "   ├─ 0.5\n",
       "   └─ * (convex; positive)\n",
       "      ├─ 1\n",
       "      └─ qol_elem (convex; positive)\n",
       "         ├─ …\n",
       "         └─ …\n",
       "subject to\n",
       "└─ == constraint (affine)\n",
       "   ├─ + (affine; real)\n",
       "   │  ├─ * (affine; real)\n",
       "   │  │  ├─ …\n",
       "   │  │  └─ …\n",
       "   │  └─ 20-element SparseVector{Float64,Int64}\n",
       "   └─ 0\n",
       "\n",
       "status: `solve!` not called yet"
      ]
     },
     "execution_count": 30,
     "metadata": {},
     "output_type": "execute_result"
    }
   ],
   "source": [
    "problem = minimize(1/2*quadform(xtilde,Qtilde),[Atilde*xtilde + btilde == 0])"
   ]
  },
  {
   "cell_type": "code",
   "execution_count": 31,
   "metadata": {},
   "outputs": [
    {
     "name": "stdout",
     "output_type": "stream",
     "text": [
      "----------------------------------------------------------------------------\n",
      "\tSCS v2.1.1 - Splitting Conic Solver\n",
      "\t(c) Brendan O'Donoghue, Stanford University, 2012\n",
      "----------------------------------------------------------------------------\n",
      "Lin-sys: sparse-indirect, nnz in A = 93, CG tol ~ 1/iter^(2.00)\n",
      "eps = 1.00e-05, alpha = 1.50, max_iters = 5000, normalize = 1, scale = 1.00\n",
      "acceleration_lookback = 10, rho_x = 1.00e-03\n",
      "Variables n = 33, constraints m = 56\n",
      "Cones:\tprimal zero / dual free vars: 21\n",
      "\tlinear vars: 1\n",
      "\tsoc vars: 34, soc blks: 2\n",
      "Setup time: 6.03e-05s\n",
      "----------------------------------------------------------------------------\n",
      " Iter | pri res | dua res | rel gap | pri obj | dua obj | kap/tau | time (s)\n",
      "----------------------------------------------------------------------------\n",
      "     0| 3.16e+19  2.75e+19  1.00e+00 -1.56e+20  1.88e+20  1.51e+20  3.11e-05 \n",
      "    60| 1.61e-07  2.78e-07  1.29e-08  2.63e+01  2.63e+01  2.38e-16  6.47e-04 \n",
      "----------------------------------------------------------------------------\n",
      "Status: Solved\n",
      "Timing: Solve time: 6.49e-04s\n",
      "\tLin-sys: avg # CG iterations: 4.31, avg solve time: 2.69e-06s\n",
      "\tCones: avg projection time: 9.66e-08s\n",
      "\tAcceleration: avg step time: 6.22e-06s\n",
      "----------------------------------------------------------------------------\n",
      "Error metrics:\n",
      "dist(s, K) = 2.5617e-15, dist(y, K*) = 0.0000e+00, s'y/|s||y| = 2.2103e-16\n",
      "primal res: |Ax + s - b|_2 / (1 + |b|_2) = 1.6127e-07\n",
      "dual res:   |A'y + c|_2 / (1 + |c|_2) = 2.7801e-07\n",
      "rel gap:    |c'x + b'y| / (1 + |c'x| + |b'y|) = 1.2913e-08\n",
      "----------------------------------------------------------------------------\n",
      "c'x = 26.3156, -b'y = 26.3156\n",
      "============================================================================\n"
     ]
    }
   ],
   "source": [
    "solve!(problem, SCS.Optimizer)"
   ]
  },
  {
   "cell_type": "code",
   "execution_count": 32,
   "metadata": {},
   "outputs": [
    {
     "data": {
      "text/plain": [
       "OPTIMAL::TerminationStatusCode = 1"
      ]
     },
     "execution_count": 32,
     "metadata": {},
     "output_type": "execute_result"
    }
   ],
   "source": [
    "problem.status"
   ]
  },
  {
   "cell_type": "code",
   "execution_count": 33,
   "metadata": {},
   "outputs": [
    {
     "data": {
      "text/plain": [
       "2×10 Array{Float64,2}:\n",
       "  4.0       2.90983   1.63933    0.827815  …   0.0161349    0.00855227\n",
       " -1.09017  -1.2705   -0.811515  -0.434556     -0.00758277  -0.00252759"
      ]
     },
     "execution_count": 33,
     "metadata": {},
     "output_type": "execute_result"
    }
   ],
   "source": [
    "xopt = reshape(xtilde.value[1:(n*N)],(2,:))"
   ]
  },
  {
   "cell_type": "code",
   "execution_count": 34,
   "metadata": {},
   "outputs": [
    {
     "data": {
      "text/plain": [
       "1×10 Array{Float64,2}:\n",
       " -4.09017  -0.180336  0.458988  0.376959  …  0.0254833  0.0116684  0.00505516"
      ]
     },
     "execution_count": 34,
     "metadata": {},
     "output_type": "execute_result"
    }
   ],
   "source": [
    "uopt = reshape(xtilde.value[(n*N+1):end],(m,:))"
   ]
  },
  {
   "cell_type": "markdown",
   "metadata": {},
   "source": [
    "### Plotting the responses"
   ]
  },
  {
   "cell_type": "code",
   "execution_count": 35,
   "metadata": {},
   "outputs": [],
   "source": [
    "using Plots"
   ]
  },
  {
   "cell_type": "code",
   "execution_count": 36,
   "metadata": {},
   "outputs": [
    {
     "data": {
      "text/plain": [
       "Plots.PyPlotBackend()"
      ]
     },
     "execution_count": 36,
     "metadata": {},
     "output_type": "execute_result"
    }
   ],
   "source": [
    "pyplot()"
   ]
  },
  {
   "cell_type": "code",
   "execution_count": 37,
   "metadata": {},
   "outputs": [
    {
     "data": {
      "image/png": "[encoded data removed]"
     },
     "execution_count": 37,
     "metadata": {},
     "output_type": "execute_result"
    }
   ],
   "source": [
    "plot(0:N,hcat(x0,xopt)',marker=:diamond,label=[\"x1\" \"x2\"],linetype=:steppost)\n",
    "xlabel!(\"k\")\n",
    "ylabel!(\"x\") # beware the conflict in notation: x_1 vs x_k. I could have used x(k) for dependence on the discrete time."
   ]
  },
  {
   "cell_type": "code",
   "execution_count": 38,
   "metadata": {},
   "outputs": [
    {
     "data": {
      "image/png": "[encoded data removed]"
     },
     "execution_count": 38,
     "metadata": {},
     "output_type": "execute_result"
    }
   ],
   "source": [
    "plot(0:(N-1),uopt',marker=:diamond,label=\"u\",linetype=:steppost)\n",
    "xlabel!(\"k\")\n",
    "ylabel!(\"u\")"
   ]
  },
  {
   "cell_type": "markdown",
   "metadata": {},
   "source": [
    "## Sequential (condensed) formulation"
   ]
  },
  {
   "cell_type": "markdown",
   "metadata": {},
   "source": [
    "In the alternative formulation of the optimization problem, we eliminate the states altogether by expressing them as functions of the inputs. The resulting optimization is then conducted only over the controls $u$ and (and the initial state $x_0$ should it be left free). "
   ]
  },
  {
   "cell_type": "markdown",
   "metadata": {},
   "source": [
    "\\begin{equation}\n",
    " \\tilde J(\\mathbf u,\\mathbf x_0) = \\frac{1}{2}\\mathbf u^T\\mathbf H\\mathbf u +  \\mathbf x_0^T\\mathbf F^T \\mathbf u.\n",
    "\\end{equation} "
   ]
  },
  {
   "cell_type": "markdown",
   "metadata": {},
   "source": [
    "If no additional constraints are imposed (in particular, the bound constraints on the controls), the problem boils down to solving linear equations."
   ]
  },
  {
   "cell_type": "markdown",
   "metadata": {},
   "source": [
    "$$ \\mathbf H\\mathbf u=-\\mathbf F\\mathbf x_0,$$"
   ]
  },
  {
   "cell_type": "markdown",
   "metadata": {},
   "source": [
    "which can be formally written as"
   ]
  },
  {
   "cell_type": "markdown",
   "metadata": {},
   "source": [
    "$$\\mathbf u = -\\mathbf H^{-1} \\mathbf F \\mathbf x_0$$"
   ]
  },
  {
   "cell_type": "markdown",
   "metadata": {},
   "source": [
    "but it goes without saying that we are certainly not going to compute the invers of the matrix $\\mathbf H$,"
   ]
  },
  {
   "cell_type": "markdown",
   "metadata": {},
   "source": [
    "### Building the linear system (set of linear equations)"
   ]
  },
  {
   "cell_type": "code",
   "execution_count": 39,
   "metadata": {},
   "outputs": [],
   "source": [
    "Chat = BlockArray(spzeros(N*n,N*m),repeat([n],N),repeat([m],N));\n",
    "Ahat = BlockArray(spzeros(N*n,n),repeat([n],N),[n]);"
   ]
  },
  {
   "cell_type": "code",
   "execution_count": 40,
   "metadata": {},
   "outputs": [],
   "source": [
    "for i=1:N\n",
    "    for j = 1:i\n",
    "        Chat[Block(i,j)] = sparse(A^(i-j)*B)\n",
    "        Ahat[Block(i,1)] = sparse(A^i)\n",
    "    end\n",
    "end"
   ]
  },
  {
   "cell_type": "code",
   "execution_count": 41,
   "metadata": {},
   "outputs": [],
   "source": [
    "H = Chat'*Qbar*Chat + Rbar; \n",
    "H = Array(H); "
   ]
  },
  {
   "cell_type": "code",
   "execution_count": 42,
   "metadata": {},
   "outputs": [],
   "source": [
    "F = Chat'*Qbar*Ahat;\n",
    "F = Array(F);"
   ]
  },
  {
   "cell_type": "markdown",
   "metadata": {},
   "source": [
    "### Solving the linear system"
   ]
  },
  {
   "cell_type": "markdown",
   "metadata": {},
   "source": [
    "The crucial computation step - solving a set of linear equations - comes now"
   ]
  },
  {
   "cell_type": "code",
   "execution_count": 43,
   "metadata": {},
   "outputs": [],
   "source": [
    "uopts = -H\\(F*x0);"
   ]
  },
  {
   "cell_type": "markdown",
   "metadata": {},
   "source": [
    "It is worth noting that the size of the problem is $n\\times n$ and the data (the matrix) is not sparse any more."
   ]
  },
  {
   "cell_type": "markdown",
   "metadata": {},
   "source": [
    "### Plotting the responses"
   ]
  },
  {
   "cell_type": "markdown",
   "metadata": {},
   "source": [
    "Finally, we plot the optimal control sequence and notice that it is identical to the one computed in the simultaneous (sparse) framework."
   ]
  },
  {
   "cell_type": "code",
   "execution_count": 44,
   "metadata": {},
   "outputs": [
    {
     "data": {
      "image/png": "[encoded data removed]"
     },
     "execution_count": 44,
     "metadata": {},
     "output_type": "execute_result"
    }
   ],
   "source": [
    "plot(0:(N-1),uopts,marker=:diamond,label=\"u_seq\",linetype=:steppost)\n",
    "xlabel!(\"k\")\n",
    "ylabel!(\"u\")"
   ]
  },
  {
   "cell_type": "code",
   "execution_count": 45,
   "metadata": {},
   "outputs": [
    {
     "data": {
      "text/plain": [
       "2×10 reshape(::BlockArray{Float64,1,Array{Array{Float64,1},1},Tuple{BlockedUnitRange{Array{Int64,1}}}}, 2, 10) with eltype Float64:\n",
       "  4.0       2.90983   1.63933    0.827815  …   0.016135     0.00855228\n",
       " -1.09017  -1.2705   -0.811515  -0.434556     -0.00758275  -0.00252758"
      ]
     },
     "execution_count": 45,
     "metadata": {},
     "output_type": "execute_result"
    }
   ],
   "source": [
    "xopts = Chat*uopts + Ahat*x0;\n",
    "xopts = reshape(xopts,(2,:))"
   ]
  },
  {
   "cell_type": "code",
   "execution_count": 46,
   "metadata": {},
   "outputs": [
    {
     "data": {
      "image/png": "[encoded data removed]"
     },
     "execution_count": 46,
     "metadata": {},
     "output_type": "execute_result"
    }
   ],
   "source": [
    "plot(0:N,hcat(x0,xopts)',marker=:diamond,label=[\"x1\" \"x2\"],linetype=:steppost)\n",
    "xlabel!(\"k\")\n",
    "ylabel!(\"x\")"
   ]
  },
  {
   "cell_type": "markdown",
   "metadata": {},
   "source": [
    "### Imposing constraints on controls"
   ]
  },
  {
   "cell_type": "markdown",
   "metadata": {},
   "source": [
    "If additional constraints are imposed, namely, the bound constraints on $\\mathbf u$, the problem becomes "
   ]
  },
  {
   "cell_type": "code",
   "execution_count": 47,
   "metadata": {},
   "outputs": [
    {
     "data": {
      "text/plain": [
       "Variable\n",
       "size: (10, 1)\n",
       "sign: real\n",
       "vexity: affine\n",
       "id: 174…971"
      ]
     },
     "execution_count": 47,
     "metadata": {},
     "output_type": "execute_result"
    }
   ],
   "source": [
    "u = Variable(N*m)"
   ]
  },
  {
   "cell_type": "code",
   "execution_count": 48,
   "metadata": {},
   "outputs": [
    {
     "data": {
      "text/plain": [
       "1"
      ]
     },
     "execution_count": 48,
     "metadata": {},
     "output_type": "execute_result"
    }
   ],
   "source": [
    "umax = 1"
   ]
  },
  {
   "cell_type": "code",
   "execution_count": 49,
   "metadata": {},
   "outputs": [
    {
     "data": {
      "text/plain": [
       "minimize\n",
       "└─ + (convex; real)\n",
       "   ├─ * (convex; positive)\n",
       "   │  ├─ 0.5\n",
       "   │  └─ * (convex; positive)\n",
       "   │     ├─ …\n",
       "   │     └─ …\n",
       "   └─ sum (affine; real)\n",
       "      └─ .* (affine; real)\n",
       "         ├─ …\n",
       "         └─ …\n",
       "subject to\n",
       "└─ <= constraint (convex)\n",
       "   ├─ abs (convex; positive)\n",
       "   │  └─ 10-element real variable (id: 174…971)\n",
       "   └─ 1\n",
       "\n",
       "status: `solve!` not called yet"
      ]
     },
     "execution_count": 49,
     "metadata": {},
     "output_type": "execute_result"
    }
   ],
   "source": [
    "problem = minimize(1/2*quadform(u,H) + dot(F*x0,u),[abs(u) <= umax])"
   ]
  },
  {
   "cell_type": "code",
   "execution_count": 50,
   "metadata": {},
   "outputs": [
    {
     "name": "stdout",
     "output_type": "stream",
     "text": [
      "----------------------------------------------------------------------------\n",
      "\tSCS v2.1.1 - Splitting Conic Solver\n",
      "\t(c) Brendan O'Donoghue, Stanford University, 2012\n",
      "----------------------------------------------------------------------------\n",
      "Lin-sys: sparse-indirect, nnz in A = 166, CG tol ~ 1/iter^(2.00)\n",
      "eps = 1.00e-05, alpha = 1.50, max_iters = 5000, normalize = 1, scale = 1.00\n",
      "acceleration_lookback = 10, rho_x = 1.00e-03\n",
      "Variables n = 23, constraints m = 46\n",
      "Cones:\tprimal zero / dual free vars: 1\n",
      "\tlinear vars: 31\n",
      "\tsoc vars: 14, soc blks: 2\n",
      "Setup time: 4.03e-05s\n",
      "----------------------------------------------------------------------------\n",
      " Iter | pri res | dua res | rel gap | pri obj | dua obj | kap/tau | time (s)\n",
      "----------------------------------------------------------------------------\n",
      "     0| 4.13e+20  1.59e+22  1.00e+00 -2.83e+21 -0.00e+00  3.26e+21  2.67e-05 \n",
      "   100| 5.49e-01  7.67e+01  4.60e-03 -1.94e+03 -1.95e+03  1.26e-15  1.24e-03 \n",
      "   200| 2.59e-02  6.98e+00  7.70e-05 -1.84e+03 -1.84e+03  6.21e-15  2.43e-03 \n",
      "   300| 6.85e-03  7.67e-02  1.32e-05 -1.87e+03 -1.87e+03  4.79e-15  3.61e-03 \n",
      "   400| 3.02e-07  2.51e-04  8.86e-09 -1.87e+03 -1.87e+03  1.08e-14  4.50e-03 \n",
      "   500| 1.07e-05  3.45e-03  1.59e-08 -1.87e+03 -1.87e+03  1.20e-14  5.27e-03 \n",
      "   600| 1.40e-06  8.84e-05  3.13e-09 -1.87e+03 -1.87e+03  1.21e-14  6.03e-03 \n",
      "   700| 1.85e-06  1.68e-04  1.65e-09 -1.87e+03 -1.87e+03  4.21e-15  6.78e-03 \n",
      "   800| 2.31e-05  2.31e-03  1.06e-08 -1.87e+03 -1.87e+03  1.27e-14  7.58e-03 \n",
      "   900| 1.33e-06  8.73e-05  2.54e-10 -1.87e+03 -1.87e+03  2.36e-15  8.38e-03 \n",
      "   944| 2.96e-07  8.82e-06  1.15e-09 -1.87e+03 -1.87e+03  9.03e-15  8.75e-03 \n",
      "----------------------------------------------------------------------------\n",
      "Status: Solved\n",
      "Timing: Solve time: 8.75e-03s\n",
      "\tLin-sys: avg # CG iterations: 7.03, avg solve time: 3.62e-06s\n",
      "\tCones: avg projection time: 8.67e-08s\n",
      "\tAcceleration: avg step time: 4.55e-06s\n",
      "----------------------------------------------------------------------------\n",
      "Error metrics:\n",
      "dist(s, K) = 2.5062e-15, dist(y, K*) = 1.1369e-13, s'y/|s||y| = -1.0359e-16\n",
      "primal res: |Ax + s - b|_2 / (1 + |b|_2) = 2.9643e-07\n",
      "dual res:   |A'y + c|_2 / (1 + |c|_2) = 8.8219e-06\n",
      "rel gap:    |c'x + b'y| / (1 + |c'x| + |b'y|) = 1.1524e-09\n",
      "----------------------------------------------------------------------------\n",
      "c'x = -1870.4832, -b'y = -1870.4832\n",
      "============================================================================\n"
     ]
    }
   ],
   "source": [
    "solve!(problem, SCS.Optimizer)"
   ]
  },
  {
   "cell_type": "code",
   "execution_count": 51,
   "metadata": {},
   "outputs": [
    {
     "data": {
      "text/plain": [
       "OPTIMAL::TerminationStatusCode = 1"
      ]
     },
     "execution_count": 51,
     "metadata": {},
     "output_type": "execute_result"
    }
   ],
   "source": [
    "problem.status"
   ]
  },
  {
   "cell_type": "code",
   "execution_count": 52,
   "metadata": {},
   "outputs": [
    {
     "data": {
      "image/png": "[encoded data removed]"
     },
     "execution_count": 52,
     "metadata": {},
     "output_type": "execute_result"
    }
   ],
   "source": [
    "plot(0:(N-1),u.value,marker=:diamond,label=\"u_seq_constr\",linetype=:steppost)\n",
    "xlabel!(\"k\")\n",
    "ylabel!(\"u\")"
   ]
  },
  {
   "cell_type": "code",
   "execution_count": 53,
   "metadata": {},
   "outputs": [
    {
     "data": {
      "text/plain": [
       "2×10 reshape(::BlockArray{Float64,2,Array{Array{Float64,2},2},Tuple{BlockedUnitRange{Array{Int64,1}},Base.OneTo{Int64}}}, 2, 10) with eltype Float64:\n",
       " 4.0  6.0  7.0          7.0   6.0  …   1.10341    0.55488    0.318435 \n",
       " 2.0  1.0  6.63161e-8  -1.0  -2.0     -0.548532  -0.236446  -0.0788149"
      ]
     },
     "execution_count": 53,
     "metadata": {},
     "output_type": "execute_result"
    }
   ],
   "source": [
    "xopts = Chat*u.value + Ahat*x0;\n",
    "xopts = reshape(xopts,(2,:))"
   ]
  },
  {
   "cell_type": "code",
   "execution_count": 54,
   "metadata": {},
   "outputs": [
    {
     "data": {
      "image/png": "[encoded data removed]"
     },
     "execution_count": 54,
     "metadata": {},
     "output_type": "execute_result"
    }
   ],
   "source": [
    "plot(0:N,hcat(x0,xopts)',marker=:diamond,label=[\"x1\" \"x2\"],linetype=:steppost)\n",
    "xlabel!(\"k\")\n",
    "ylabel!(\"x\")"
   ]
  },
  {
   "cell_type": "markdown",
   "metadata": {},
   "source": [
    "## References\n",
    "\n",
    "[1] Lewis, Frank, Draguna Vrabie, and Vassilis L. Syrmos. Optimal Control. 3rd edition. Hoboken: Wiley, 2012.\n",
    "\n",
    "[2] Rawlings, James B., David Q. Mayne, and Moritz M. Diehl. Model Predictive Control: Theory, Computation, and Design. 2nd ed. Madison, Wisconsin: Nob Hill Publishing, LLC, 2017."
   ]
  },
  {
   "cell_type": "code",
   "execution_count": null,
   "metadata": {},
   "outputs": [],
   "source": []
  }
 ],
 "metadata": {
  "@webio": {
   "lastCommId": null,
   "lastKernelId": null
  },
  "kernelspec": {
   "display_name": "Julia 1.3.1",
   "language": "julia",
   "name": "julia-1.3"
  },
  "language_info": {
   "file_extension": ".jl",
   "mimetype": "application/julia",
   "name": "julia",
   "version": "1.3.1"
  },
  "latex_envs": {
   "LaTeX_envs_menu_present": true,
   "autoclose": false,
   "autocomplete": false,
   "bibliofile": "biblio.bib",
   "cite_by": "apalike",
   "current_citInitial": 1,
   "eqLabelWithNumbers": true,
   "eqNumInitial": 1,
   "hotkeys": {
    "equation": "Ctrl-E",
    "itemize": "Ctrl-I"
   },
   "labels_anchors": false,
   "latex_user_defs": false,
   "report_style_numbering": false,
   "user_envs_cfg": false
  },
  "toc": {
   "base_numbering": 1,
   "nav_menu": {
    "height": "204px",
    "width": "422px"
   },
   "number_sections": true,
   "sideBar": true,
   "skip_h1_title": false,
   "title_cell": "Table of Contents",
   "title_sidebar": "Contents",
   "toc_cell": false,
   "toc_position": {
    "height": "calc(100% - 180px)",
    "left": "10px",
    "top": "150px",
    "width": "217.767px"
   },
   "toc_section_display": true,
   "toc_window_display": false
  },
  "varInspector": {
   "cols": {
    "lenName": 16,
    "lenType": 16,
    "lenVar": 40
   },
   "kernels_config": {
    "python": {
     "delete_cmd_postfix": "",
     "delete_cmd_prefix": "del ",
     "library": "var_list.py",
     "varRefreshCmd": "print(var_dic_list())"
    },
    "r": {
     "delete_cmd_postfix": ") ",
     "delete_cmd_prefix": "rm(",
     "library": "var_list.r",
     "varRefreshCmd": "cat(var_dic_list()) "
    }
   },
   "types_to_exclude": [
    "module",
    "function",
    "builtin_function_or_method",
    "instance",
    "_Feature"
   ],
   "window_display": false
  }
 },
 "nbformat": 4,
 "nbformat_minor": 2
}
