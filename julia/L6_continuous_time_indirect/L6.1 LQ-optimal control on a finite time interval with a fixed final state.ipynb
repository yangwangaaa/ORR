{
 "cells": [
  {
   "cell_type": "markdown",
   "metadata": {},
   "source": [
    "# Continuous-time LQ-optimal control on a finite time interval with a fixed final state"
   ]
  },
  {
   "cell_type": "markdown",
   "metadata": {},
   "source": [
    "We consider an LTI state-space model (but can also be time-varying), a quadratic cost function and fixed initial and final states, all this on an interval $[0,t_\\mathrm{f}]$."
   ]
  },
  {
   "cell_type": "markdown",
   "metadata": {},
   "source": [
    "\\begin{align*}\n",
    " \\underset{\\mathbf x(t),\\mathbf u(t)}{\\text{minimize}}&\\quad\\int_{0}^{t_\\mathbf f}\\left(\\mathbf x^\\text{T}(t)\\underbrace{\\mathbf Q}_{\\geq 0}\\mathbf x(t)+\\mathbf u^\\text{T}(t)\\underbrace{\\mathbf R}_{>0} u(t)\\right)\\text{d}t\\\\\n",
    " \\text{subject to}&\\quad \\dot{\\mathbf x}(t)= \\mathbf A\\mathbf x(t)+ \\mathbf B\\mathbf u(t),\\\\\n",
    " &\\quad \\mathbf{x}(0) = \\mathbf{r}_0,\\\\\n",
    "  &\\quad \\mathbf x(t_\\mathrm{f})=\\mathbf r_\\mathrm{f}. \n",
    "\\end{align*}"
   ]
  },
  {
   "cell_type": "markdown",
   "metadata": {},
   "source": [
    "## Two-point boundary value problem"
   ]
  },
  {
   "cell_type": "markdown",
   "metadata": {},
   "source": [
    "The corresponding first-order necessary conditions come in the form of a two-point boundary value problem"
   ]
  },
  {
   "cell_type": "markdown",
   "metadata": {},
   "source": [
    "\\begin{equation*}\n",
    "\\begin{bmatrix}\n",
    " \\dot {\\mathbf x} \\\\ \\dot{\\boldsymbol\\lambda}\n",
    "\\end{bmatrix}\n",
    "= \\underbrace{\n",
    "\\begin{bmatrix}\n",
    " \\mathbf A & \\mathbf B\\mathbf R^{-1}\\mathbf B^\\text{T}\\\\\n",
    " \\mathbf Q & - \\mathbf A^\\text{T}\n",
    "\\end{bmatrix}}_{\\mathbf H}\n",
    "\\begin{bmatrix}\n",
    " \\mathbf x \\\\ \\boldsymbol\\lambda\n",
    "\\end{bmatrix},\n",
    "\\end{equation*}"
   ]
  },
  {
   "cell_type": "markdown",
   "metadata": {},
   "source": [
    "\\begin{align*}\n",
    "\\mathbf x(t_\\mathrm{i})&=\\mathbf r_\\mathrm{i},\\\\\n",
    "\\mathbf x(t_\\mathrm{f})&=\\mathbf r_\\mathrm{f}(t_\\mathrm{f}).\n",
    "\\end{align*}"
   ]
  },
  {
   "cell_type": "markdown",
   "metadata": {},
   "source": [
    "once we have the solution, the optimal control can be obtained via"
   ]
  },
  {
   "cell_type": "markdown",
   "metadata": {},
   "source": [
    "\\begin{equation*}\n",
    " \\mathbf u(t) = \\mathbf R^{-1}\\mathbf B^\\text{T}\\boldsymbol \\lambda(t).\n",
    "\\end{equation*}"
   ]
  },
  {
   "cell_type": "markdown",
   "metadata": {},
   "source": [
    "Let's enter the matrices defining the models in Julia"
   ]
  },
  {
   "cell_type": "code",
   "execution_count": 14,
   "metadata": {},
   "outputs": [
    {
     "data": {
      "text/plain": [
       "2×1 Array{Float64,2}:\n",
       " 0.9202738284109997\n",
       " 0.22415045715869697"
      ]
     },
     "execution_count": 14,
     "metadata": {},
     "output_type": "execute_result"
    }
   ],
   "source": [
    "n = 2                  # order of the system\n",
    "\n",
    "A = rand(n,n)\n",
    "B = rand(n,1)"
   ]
  },
  {
   "cell_type": "markdown",
   "metadata": {},
   "source": [
    "Specify also the cost function (by giving the two weighting matrices)"
   ]
  },
  {
   "cell_type": "code",
   "execution_count": 23,
   "metadata": {},
   "outputs": [
    {
     "data": {
      "text/plain": [
       "1×1 Array{Float64,2}:\n",
       " 0.6446121625840247"
      ]
     },
     "execution_count": 23,
     "metadata": {},
     "output_type": "execute_result"
    }
   ],
   "source": [
    "using LinearAlgebra\n",
    "\n",
    "Q = diagm(0=>rand(n))  \n",
    "R = rand(1,1)"
   ]
  },
  {
   "cell_type": "markdown",
   "metadata": {},
   "source": [
    "Fix also the boundary values of the state variable(s) "
   ]
  },
  {
   "cell_type": "code",
   "execution_count": 16,
   "metadata": {},
   "outputs": [
    {
     "data": {
      "text/plain": [
       "2-element Array{Int64,1}:\n",
       " 0\n",
       " 3"
      ]
     },
     "execution_count": 16,
     "metadata": {},
     "output_type": "execute_result"
    }
   ],
   "source": [
    "x0 = [1;2]             # initial states\n",
    "x1 = [0;3]             # final (desired) states"
   ]
  },
  {
   "cell_type": "markdown",
   "metadata": {},
   "source": [
    "and the final time"
   ]
  },
  {
   "cell_type": "code",
   "execution_count": 24,
   "metadata": {},
   "outputs": [
    {
     "data": {
      "text/plain": [
       "10"
      ]
     },
     "execution_count": 24,
     "metadata": {},
     "output_type": "execute_result"
    }
   ],
   "source": [
    "t1 = 10                # had to change from tf because of some possible clash with ControlSystems later"
   ]
  },
  {
   "cell_type": "markdown",
   "metadata": {},
   "source": [
    "Now we build the Hamiltonian matrix "
   ]
  },
  {
   "cell_type": "code",
   "execution_count": 18,
   "metadata": {},
   "outputs": [
    {
     "data": {
      "text/plain": [
       "4×4 Array{Float64,2}:\n",
       " 0.470769  0.633008   1.00907    0.245778\n",
       " 0.837483  0.238654   0.245778   0.059864\n",
       " 0.691988  0.0       -0.470769  -0.837483\n",
       " 0.0       0.452589  -0.633008  -0.238654"
      ]
     },
     "execution_count": 18,
     "metadata": {},
     "output_type": "execute_result"
    }
   ],
   "source": [
    "H = [A B/R*B'; Q -A'] # the combined matrix for the Hamiltonian cannonical equations"
   ]
  },
  {
   "cell_type": "markdown",
   "metadata": {},
   "source": [
    "The Hamiltonian matrix $\\mathbf H$ defines a linear system. As such its solution can be expressed using the state transition matrix (in fact, a matrix exponential)"
   ]
  },
  {
   "cell_type": "code",
   "execution_count": 25,
   "metadata": {},
   "outputs": [],
   "source": [
    "P = exp(H*tf)        \n",
    "\n",
    "P11 = P[1:n,1:n]\n",
    "P12 = P[1:n,n+1:end]\n",
    "P21 = P[n+1:end,1:n]\n",
    "P22 = P[n+1:end,n+1:end]\n",
    "\n",
    "lambda0 = P12\\(x1-P11*x0);  # solving for the initial value of costate"
   ]
  },
  {
   "cell_type": "markdown",
   "metadata": {},
   "source": [
    "We are now ready to solving for the Hamiltonian system for the states and the costates during the time interval. In order to do that, we can use [ControlSystems](https://github.com/JuliaControl/ControlSystems.jl) package (after defining a dummy systems, which is actually the Hamiltonian canonical equations with no input and all the states at the output). Alternatively, we could solve this using [DifferentialEquations](https://docs.juliadiffeq.org/latest/) package."
   ]
  },
  {
   "cell_type": "code",
   "execution_count": 20,
   "metadata": {},
   "outputs": [
    {
     "data": {
      "text/plain": [
       "101×2 Array{Float64,2}:\n",
       " -4.237     -4.89619\n",
       " -3.60495   -4.4467\n",
       " -3.05812   -4.04517\n",
       " -2.58549   -3.68589\n",
       " -2.17748   -3.36387\n",
       " -1.8257    -3.0747\n",
       " -1.52287   -2.81453\n",
       " -1.2626    -2.57999\n",
       " -1.03936   -2.36811\n",
       " -0.84831   -2.17627\n",
       " -0.68523   -2.00219\n",
       " -0.546449  -1.84383\n",
       " -0.428782  -1.69944\n",
       "  ⋮         \n",
       " -2.98158    4.22691\n",
       " -3.14511    4.43157\n",
       " -3.31886    4.64537\n",
       " -3.50367    4.86864\n",
       " -3.70046    5.10175\n",
       " -3.91024    5.34504\n",
       " -4.13419    5.59886\n",
       " -4.3736     5.86354\n",
       " -4.62994    6.13939\n",
       " -4.90482    6.42672\n",
       " -5.20001    6.72583\n",
       " -5.51742    7.03702"
      ]
     },
     "execution_count": 20,
     "metadata": {},
     "output_type": "execute_result"
    }
   ],
   "source": [
    "using ControlSystems\n",
    "\n",
    "G = ss(H,zeros(2n,1),Matrix{Float64}(I, 2n, 2n),0) # auxiliary system comprising the states and costates\n",
    "\n",
    "w0 = [x0; lambda0]\n",
    "t = 0:0.1:t1\n",
    "v(w,t) = [0]\n",
    "y, t, w, uout = lsim(G,v,t,x0=w0)\n",
    "x = w[:,1:n]                         # state\n",
    "λ = w[:,n+1:end]                     # costate"
   ]
  },
  {
   "cell_type": "markdown",
   "metadata": {},
   "source": [
    "Finally, once we have the states and the costates over the whole interval, the optimal control immediately follows from the stationarity equation (of course only under the assumption of nonsingularity of $\\mathbf R$, which is what we imposed at the beginning by asking for $\\mathbf R>0$)."
   ]
  },
  {
   "cell_type": "code",
   "execution_count": 26,
   "metadata": {},
   "outputs": [],
   "source": [
    "u = (R\\B'*λ')';  # optimal control from the stationarity equation"
   ]
  },
  {
   "cell_type": "markdown",
   "metadata": {},
   "source": [
    "Plotting the responses shows if we succeeded in satisfying the requirements on the initial and final conditions."
   ]
  },
  {
   "cell_type": "code",
   "execution_count": 27,
   "metadata": {},
   "outputs": [
    {
     "data": {
      "image/png": "[encoded data removed]"
     },
     "execution_count": 27,
     "metadata": {},
     "output_type": "execute_result"
    }
   ],
   "source": [
    "using Plots, LaTeXStrings\n",
    "pyplot(xlabel=\"t\",legend=false)\n",
    "\n",
    "p1 = plot(t,x,ylabel=L\"x\")\n",
    "p2 = plot(t,λ,ylabel=L\"$\\lambda$\")\n",
    "p3 = plot(t,u,ylabel=L\"u\")\n",
    "\n",
    "plot(p1,p2,p3,layout=(3,1))"
   ]
  },
  {
   "cell_type": "markdown",
   "metadata": {},
   "source": [
    "## Minimum energy control (assuming $\\mathbf Q = \\mathbf 0$)"
   ]
  },
  {
   "cell_type": "markdown",
   "metadata": {},
   "source": [
    "[TBD: gramian stuff]"
   ]
  },
  {
   "cell_type": "code",
   "execution_count": null,
   "metadata": {},
   "outputs": [],
   "source": []
  }
 ],
 "metadata": {
  "kernelspec": {
   "display_name": "Julia 1.4.0",
   "language": "julia",
   "name": "julia-1.4"
  },
  "language_info": {
   "file_extension": ".jl",
   "mimetype": "application/julia",
   "name": "julia",
   "version": "1.4.0"
  }
 },
 "nbformat": 4,
 "nbformat_minor": 4
}
