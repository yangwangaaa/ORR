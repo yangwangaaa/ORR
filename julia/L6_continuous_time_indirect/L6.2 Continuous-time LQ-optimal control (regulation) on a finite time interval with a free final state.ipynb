{
 "cells": [
  {
   "cell_type": "markdown",
   "metadata": {},
   "source": [
    "# Continuous-time LQ-optimal control (regulation) on a finite time interval with a free final state"
   ]
  },
  {
   "cell_type": "markdown",
   "metadata": {},
   "source": [
    "We consider an LTI state-space model (but can also be time-varying), a quadratic cost function, fixed initial but final state, all this on an interval $[0,t_\\mathrm{f}]$."
   ]
  },
  {
   "cell_type": "markdown",
   "metadata": {},
   "source": [
    "\\begin{align*}\n",
    " \\underset{\\mathbf x(t),\\mathbf u(t)}{\\text{minimize}}&\\quad\\left[\\mathbf x^\\text{T}(t_\\mathbf f)\\underbrace{\\mathbf S_\\mathbf f}_{\\geq 0}\\mathbf x(t_\\mathbf f)+\\int_{0}^{t_\\mathbf f}\\left(\\mathbf x^\\text{T}(t)\\underbrace{\\mathbf Q}_{\\geq 0}\\mathbf x(t)+\\mathbf u^\\text{T}(t)\\underbrace{\\mathbf R}_{>0} u(t)\\right)\\text{d}t\\right]\\\\\n",
    " \\text{subject to}&\\quad \\dot{\\mathbf x}(t)= \\mathbf A\\mathbf x(t)+ \\mathbf B\\mathbf u(t),\\\\\n",
    " &\\quad \\mathbf{x}(0) = \\mathbf{r}_0,\\\\\n",
    "  &\\quad \\mathbf x(t_\\mathrm{f})\\;\\text{unspecified but forced to zero through the terminal cost}.\n",
    "\\end{align*}"
   ]
  },
  {
   "cell_type": "markdown",
   "metadata": {},
   "source": [
    "## Two-point boundary value problem"
   ]
  },
  {
   "cell_type": "markdown",
   "metadata": {},
   "source": [
    "The corresponding first-order necessary conditions come in the form of a two-point boundary value problem"
   ]
  },
  {
   "cell_type": "markdown",
   "metadata": {},
   "source": [
    "\\begin{equation*}\n",
    "\\begin{bmatrix}\n",
    " \\dot {\\mathbf x} \\\\ \\dot{\\boldsymbol\\lambda}\n",
    "\\end{bmatrix}\n",
    "= \\underbrace{\n",
    "\\begin{bmatrix}\n",
    " \\mathbf A & \\mathbf B\\mathbf R^{-1}\\mathbf B^\\text{T}\\\\\n",
    " \\mathbf Q & - \\mathbf A^\\text{T}\n",
    "\\end{bmatrix}}_{\\mathbf H}\n",
    "\\begin{bmatrix}\n",
    " \\mathbf x \\\\ \\boldsymbol\\lambda\n",
    "\\end{bmatrix},\n",
    "\\end{equation*}"
   ]
  },
  {
   "cell_type": "markdown",
   "metadata": {},
   "source": [
    "\\begin{align*}\n",
    "\\mathbf x(t_\\mathrm{0})&=\\mathbf r_\\mathrm{0},\\\\\n",
    "\\boldsymbol\\lambda(t_\\mathrm{f})&=-\\mathbf S_\\mathbf{f} \\mathbf{x}(t_\\mathrm{f}).\n",
    "\\end{align*}"
   ]
  },
  {
   "cell_type": "markdown",
   "metadata": {},
   "source": [
    "Once we have a solution, an optimal control can be obtained via"
   ]
  },
  {
   "cell_type": "markdown",
   "metadata": {},
   "source": [
    "\\begin{equation*}\n",
    " \\mathbf u(t) = \\mathbf R^{-1}\\mathbf B^\\text{T}\\boldsymbol \\lambda(t).\n",
    "\\end{equation*}"
   ]
  },
  {
   "cell_type": "markdown",
   "metadata": {},
   "source": [
    "First, define the state-space model by specifying the two matrices"
   ]
  },
  {
   "cell_type": "code",
   "execution_count": 1,
   "metadata": {},
   "outputs": [],
   "source": [
    "n = 2                  # order of the system\n",
    "m = 1                  # number of inputs (but beware the rest of the code is only tailored for m=1)\n",
    "A = rand(n,n)\n",
    "B = rand(n,m);"
   ]
  },
  {
   "cell_type": "code",
   "execution_count": 2,
   "metadata": {},
   "outputs": [],
   "source": [
    "using LinearAlgebra\n",
    "\n",
    "Q = diagm(0=>10*ones(n))    # weighting matrices for the quadratic cost function\n",
    "R = diagm(0=>10*ones(m)) \n",
    "S₁ = diagm(0=>10*ones(n));"
   ]
  },
  {
   "cell_type": "code",
   "execution_count": 3,
   "metadata": {},
   "outputs": [],
   "source": [
    "x₀ = [1.0, 2.0];             # initial states"
   ]
  },
  {
   "cell_type": "code",
   "execution_count": 4,
   "metadata": {},
   "outputs": [],
   "source": [
    "t₀ = 0.0                 # initial time\n",
    "t₁ = 10.0;               # final time"
   ]
  },
  {
   "cell_type": "markdown",
   "metadata": {},
   "source": [
    "We build the Hamiltonian system (linear state and costate equations) represented by the matrix $\\mathbf H$ "
   ]
  },
  {
   "cell_type": "code",
   "execution_count": 5,
   "metadata": {},
   "outputs": [
    {
     "data": {
      "text/plain": [
       "4×4 Array{Float64,2}:\n",
       "  0.257947   0.232929   0.0771776   0.0728461\n",
       "  0.105704   0.648322   0.0728461   0.0687577\n",
       " 10.0        0.0       -0.257947   -0.105704\n",
       "  0.0       10.0       -0.232929   -0.648322"
      ]
     },
     "execution_count": 5,
     "metadata": {},
     "output_type": "execute_result"
    }
   ],
   "source": [
    "H = [A B/R*B'; Q -A'] # the combined matrix for the Hamiltonian cannonical equations"
   ]
  },
  {
   "cell_type": "markdown",
   "metadata": {},
   "source": [
    "We solve for the costate at the beginning of the time interval by relyin on the linearity of the system, hence transition matrix can be defined and used"
   ]
  },
  {
   "cell_type": "code",
   "execution_count": 6,
   "metadata": {},
   "outputs": [
    {
     "data": {
      "text/plain": [
       "2-element Array{Float64,1}:\n",
       "  304.187650014075\n",
       " -430.40095720290356"
      ]
     },
     "execution_count": 6,
     "metadata": {},
     "output_type": "execute_result"
    }
   ],
   "source": [
    "P = exp(H*t₁)        # \"state\"-transition matrix\n",
    "\n",
    "P11 = P[1:n,1:n]\n",
    "P12 = P[1:n,n+1:end]\n",
    "P21 = P[n+1:end,1:n]\n",
    "P22 = P[n+1:end,n+1:end]\n",
    "\n",
    "λ₀ = -(S₁*P12+P22)\\(S₁*P11+P21)*x₀  # solving for the initial value of costate"
   ]
  },
  {
   "cell_type": "markdown",
   "metadata": {},
   "source": [
    "Now we solve for the states and costates during the whole time interval. Since the Hamilton canonical equations for a regular state space model, we can use [ControlSystems](https://github.com/JuliaControl/ControlSystems.jl) package. Alternatively, we could use the general [DifferentialEquations](https://docs.juliadiffeq.org/latest/) package."
   ]
  },
  {
   "cell_type": "code",
   "execution_count": 7,
   "metadata": {},
   "outputs": [
    {
     "name": "stderr",
     "output_type": "stream",
     "text": [
      "┌ Info: Precompiling ControlSystems [a6e380b2-a6ca-5380-bf3e-84a91bcd477e]\n",
      "└ @ Base loading.jl:1260\n"
     ]
    }
   ],
   "source": [
    "using ControlSystems\n",
    "\n",
    "G = ss(H,zeros(2n,1),Matrix{Float64}(I, 2n, 2n),0) # auxiliary system comprising the states and costates\n",
    "\n",
    "w₀ = [x₀; λ₀]\n",
    "t = 0:0.1:t₁\n",
    "v(w,t) = [0]\n",
    "y, t, w, uout = lsim(G,v,t,x0=w₀)\n",
    "x = w[:,1:n]                                       # state\n",
    "λ = w[:,n+1:end]                                   # costate\n",
    "u = (R\\B'*λ')';                                    # optimal control from the stationarity equation"
   ]
  },
  {
   "cell_type": "markdown",
   "metadata": {},
   "source": [
    "Finally we can plot the responses"
   ]
  },
  {
   "cell_type": "code",
   "execution_count": 8,
   "metadata": {},
   "outputs": [
    {
     "data": {
      "image/png": "[encoded data removed]"
     },
     "execution_count": 8,
     "metadata": {},
     "output_type": "execute_result"
    }
   ],
   "source": [
    "using Plots, LaTeXStrings\n",
    "pyplot(xlabel=L\"t\",legend=false)\n",
    "\n",
    "p1 = plot(t,x,ylabel=L\"x\")\n",
    "p2 = plot(t,λ,ylabel=L\"$\\lambda$\")\n",
    "p3 = plot(t,u,ylabel=L\"u\")\n",
    "\n",
    "plot(p1,p2,p3,layout=(3,1))"
   ]
  },
  {
   "cell_type": "markdown",
   "metadata": {},
   "source": [
    "## Reformulation of the two-point BVP as an IVP using differential Riccati equation"
   ]
  },
  {
   "cell_type": "markdown",
   "metadata": {},
   "source": [
    "Instead of solving the two-point boundary value Hamiltonian problem, we can reformulate it as an initial value problem. Actually, final value because the corresponding differential equation (Riccati equation) is initialized at the end of the time interval and solved backward"
   ]
  },
  {
   "cell_type": "markdown",
   "metadata": {},
   "source": [
    "\\begin{equation*}\\boxed{\n",
    " - \\dot{\\mathbf S} =  \\mathbf S \\mathbf A + \\mathbf A^\\text{T} \\mathbf S + \\mathbf Q - \\mathbf S\\mathbf B\\mathbf R^{-1}\\mathbf B^\\text{T} \\mathbf S},\\quad \\mathbf{S}(t) = \\mathbf{S}_\\mathbf{f}. \n",
    "\\end{equation*}"
   ]
  },
  {
   "cell_type": "markdown",
   "metadata": {},
   "source": [
    "Once we have $\\mathbf S(t)$ for the whole interval $[0,t_\\mathbf{f}]$, the optimal control is"
   ]
  },
  {
   "cell_type": "markdown",
   "metadata": {},
   "source": [
    "\\begin{equation*}\n",
    " \\mathbf u(t) = -\\mathbf R^{-1}\\mathbf B^\\text{T}\\mathbf S(t)\\mathbf x(t),\n",
    "\\end{equation*}"
   ]
  },
  {
   "cell_type": "markdown",
   "metadata": {},
   "source": [
    "which is a feedback control with the time-varying state feedback gain"
   ]
  },
  {
   "cell_type": "markdown",
   "metadata": {},
   "source": [
    "\\begin{equation*}\n",
    " \\mathbf K(t) = \\mathbf R^{-1}\\mathbf B^\\text{T}\\mathbf S(t),\n",
    "\\end{equation*}"
   ]
  },
  {
   "cell_type": "markdown",
   "metadata": {},
   "source": [
    "assuming a negative feedback."
   ]
  },
  {
   "cell_type": "markdown",
   "metadata": {},
   "source": [
    "Note also that $\\mathbf S(t)\\geq0$, that is, a solution of (matrix) differential Riccati equation is guaranteed to be positive semidefinite."
   ]
  },
  {
   "cell_type": "markdown",
   "metadata": {},
   "source": [
    "Let's enter the matrices defining the models in Julia"
   ]
  },
  {
   "cell_type": "code",
   "execution_count": 9,
   "metadata": {},
   "outputs": [
    {
     "name": "stderr",
     "output_type": "stream",
     "text": [
      "┌ Info: Precompiling DifferentialEquations [0c46a032-eb83-5123-abaf-570d42b7fbaa]\n",
      "└ @ Base loading.jl:1260\n"
     ]
    }
   ],
   "source": [
    "using DifferentialEquations"
   ]
  },
  {
   "cell_type": "markdown",
   "metadata": {},
   "source": [
    "The right hand side of the Riccati differential equation (assuming $\\dot{\\mathbf{S}}$ on the left hand side) is"
   ]
  },
  {
   "cell_type": "code",
   "execution_count": 10,
   "metadata": {},
   "outputs": [
    {
     "data": {
      "text/plain": [
       "f (generic function with 1 method)"
      ]
     },
     "execution_count": 10,
     "metadata": {},
     "output_type": "execute_result"
    }
   ],
   "source": [
    "f(S,p,t) = -S*A - A'*S - Q + S*B/R*B'*S"
   ]
  },
  {
   "cell_type": "markdown",
   "metadata": {},
   "source": [
    "The problem defined in the format of the `DifferentialEquations` package is below. Note that the solver has no problem accepting the reverse time direction."
   ]
  },
  {
   "cell_type": "markdown",
   "metadata": {},
   "source": [
    "Compared to the two-point boundar-value problem formulation above, here we can safely afford to examine both short and long time intervals"
   ]
  },
  {
   "cell_type": "code",
   "execution_count": 11,
   "metadata": {},
   "outputs": [
    {
     "data": {
      "text/plain": [
       "100"
      ]
     },
     "execution_count": 11,
     "metadata": {},
     "output_type": "execute_result"
    }
   ],
   "source": [
    "t₁ = 100"
   ]
  },
  {
   "cell_type": "code",
   "execution_count": 12,
   "metadata": {},
   "outputs": [
    {
     "data": {
      "text/plain": [
       "\u001b[36mODEProblem\u001b[0m with uType \u001b[36mArray{Float64,2}\u001b[0m and tType \u001b[36mFloat64\u001b[0m. In-place: \u001b[36mfalse\u001b[0m\n",
       "timespan: (100.0, 0.0)\n",
       "u0: [10.0 0.0; 0.0 10.0]"
      ]
     },
     "execution_count": 12,
     "metadata": {},
     "output_type": "execute_result"
    }
   ],
   "source": [
    "prob = ODEProblem(f,S₁,(t₁,t₀))"
   ]
  },
  {
   "cell_type": "markdown",
   "metadata": {},
   "source": [
    "Now solve the problem"
   ]
  },
  {
   "cell_type": "code",
   "execution_count": 13,
   "metadata": {},
   "outputs": [],
   "source": [
    "sol = solve(prob,reltol=1e-8,abstol=1e-8);"
   ]
  },
  {
   "cell_type": "markdown",
   "metadata": {},
   "source": [
    "And for convenience reverse the ordering of the time and the solutions of the Riccati equations."
   ]
  },
  {
   "cell_type": "code",
   "execution_count": 14,
   "metadata": {},
   "outputs": [],
   "source": [
    "t = reverse(sol.t);\n",
    "S = reverse(sol.u);"
   ]
  },
  {
   "cell_type": "markdown",
   "metadata": {},
   "source": [
    "For plotting we need to reformat `S` from an array of matrices into a matrix of arrays - as usual... "
   ]
  },
  {
   "cell_type": "code",
   "execution_count": 15,
   "metadata": {},
   "outputs": [
    {
     "data": {
      "text/plain": [
       "2×1 Array{Array{Float64,1},2}:\n",
       " [227.99998390179803, 227.99998390179883, 227.99998390178263, 227.9999839016982, 227.99998390117892, 227.99998389756283, 227.99998386736496, 227.99998392512887, 227.99998384940415, 227.99998386415288  …  14.44413437736059, 13.63245347929447, 12.933938289087866, 12.324048114326388, 11.78564738315924, 11.309669718211758, 10.88799929784862, 10.521967359790755, 10.204441818725888, 10.0]\n",
       " [-273.42311374613894, -273.42311374613894, -273.42311374611296, -273.42311374596835, -273.423113745083, -273.4231137390212, -273.42311368814046, -273.42311379013995, -273.42311366644924, -273.42311371122264  …  -4.265788311723567, -3.2822129872531356, -2.481374651420743, -1.8310949455153924, -1.3061892627427405, -0.8882256327422196, -0.5586478599901226, -0.3057300229966137, -0.11203601938739874, 0.0]"
      ]
     },
     "execution_count": 15,
     "metadata": {},
     "output_type": "execute_result"
    }
   ],
   "source": [
    "SS = [[z[i,j] for z in S] for i=1:n, j=1:m]"
   ]
  },
  {
   "cell_type": "markdown",
   "metadata": {},
   "source": [
    "Let's plot just one element of the matrix function `S`"
   ]
  },
  {
   "cell_type": "code",
   "execution_count": 16,
   "metadata": {},
   "outputs": [
    {
     "data": {
      "image/png": "[encoded data removed]"
     },
     "execution_count": 16,
     "metadata": {},
     "output_type": "execute_result"
    }
   ],
   "source": [
    "using Plots, LaTeXStrings\n",
    "pyplot()\n",
    "\n",
    "plot(t,SS[1,1],linewidth=2,xlabel=L\"t\",ylabel=L\"S_{11}(t)\",label=\"\")"
   ]
  },
  {
   "cell_type": "markdown",
   "metadata": {},
   "source": [
    "Computing the time-varying state feedback gain is then straightforward. "
   ]
  },
  {
   "cell_type": "code",
   "execution_count": 29,
   "metadata": {},
   "outputs": [],
   "source": [
    "K = [R\\B'*s for s in S];               # will consider a negative feedback"
   ]
  },
  {
   "cell_type": "markdown",
   "metadata": {},
   "source": [
    "Again, for the purpose of plotting we must reformat"
   ]
  },
  {
   "cell_type": "code",
   "execution_count": 30,
   "metadata": {},
   "outputs": [
    {
     "data": {
      "text/plain": [
       "1×2 Array{Array{Float64,1},2}:\n",
       " [-2.64235, -2.64235, -2.64235, -2.64235, -2.64235, -2.64235, -2.64235, -2.64235, -2.64235, -2.64235  …  0.915208, 0.92546, 0.9305, 0.930842, 0.927069, 0.919911, 0.910196, 0.899012, 0.887178, 0.878508]  …  [5.92336, 5.92336, 5.92336, 5.92336, 5.92336, 5.92336, 5.92336, 5.92336, 5.92336, 5.92336  …  1.28172, 1.22185, 1.16284, 1.10488, 1.04844, 0.994453, 0.943645, 0.89754, 0.856279, 0.829203]"
      ]
     },
     "execution_count": 30,
     "metadata": {},
     "output_type": "execute_result"
    }
   ],
   "source": [
    "KK = [[z[i,j] for z in K] for i=1:m, j=1:n] "
   ]
  },
  {
   "cell_type": "code",
   "execution_count": 31,
   "metadata": {},
   "outputs": [
    {
     "data": {
      "image/png": "[encoded data removed]"
     },
     "execution_count": 31,
     "metadata": {},
     "output_type": "execute_result"
    }
   ],
   "source": [
    "plot(t,KK[:],linewidth=2,xlabel=L\"t\",ylabel=L\"K(t)\",label=\"\")    # array of array issue, that's why the index"
   ]
  },
  {
   "cell_type": "markdown",
   "metadata": {},
   "source": [
    "Now simulate the closed-loop response to some nonzero initial state "
   ]
  },
  {
   "cell_type": "code",
   "execution_count": 32,
   "metadata": {},
   "outputs": [],
   "source": [
    "x₀ = [1.0, 2.0];"
   ]
  },
  {
   "cell_type": "markdown",
   "metadata": {},
   "source": [
    "By solving the Riccati differential equation, we have an array of values of `K` but we need to have a function. Interpolation is the way to go."
   ]
  },
  {
   "cell_type": "code",
   "execution_count": 33,
   "metadata": {},
   "outputs": [],
   "source": [
    "using Interpolations"
   ]
  },
  {
   "cell_type": "code",
   "execution_count": 34,
   "metadata": {},
   "outputs": [],
   "source": [
    "Kintp = LinearInterpolation(t,K);"
   ]
  },
  {
   "cell_type": "markdown",
   "metadata": {},
   "source": [
    "Now build the right hand side for the state equation. The state-feedback gain will be here a time-varying parameter. Check out the [explanation of using parameterized function with DifferentialEquations documentation](https://docs.juliadiffeq.org/stable/tutorials/ode_example/#Example-3:-Solving-Nonhomogeneous-Equations-using-Parameterized-Functions-1)."
   ]
  },
  {
   "cell_type": "code",
   "execution_count": 35,
   "metadata": {},
   "outputs": [
    {
     "data": {
      "text/plain": [
       "\u001b[36mODEProblem\u001b[0m with uType \u001b[36mArray{Float64,1}\u001b[0m and tType \u001b[36mFloat64\u001b[0m. In-place: \u001b[36mfalse\u001b[0m\n",
       "timespan: (0.0, 100.0)\n",
       "u0: [1.0, 2.0]"
      ]
     },
     "execution_count": 35,
     "metadata": {},
     "output_type": "execute_result"
    }
   ],
   "source": [
    "fclosed(x,K,t) = (A - B*K(t))*x\n",
    "\n",
    "prob = ODEProblem(fclosed,x₀,[t₀,t₁],t->Kintp(t))"
   ]
  },
  {
   "cell_type": "markdown",
   "metadata": {},
   "source": [
    "What now remains is to solve the problem"
   ]
  },
  {
   "cell_type": "code",
   "execution_count": 36,
   "metadata": {},
   "outputs": [],
   "source": [
    "sol = solve(prob);"
   ]
  },
  {
   "cell_type": "markdown",
   "metadata": {},
   "source": [
    "And plot the solution"
   ]
  },
  {
   "cell_type": "code",
   "execution_count": 37,
   "metadata": {},
   "outputs": [],
   "source": [
    "xsol = sol.u;"
   ]
  },
  {
   "cell_type": "code",
   "execution_count": 38,
   "metadata": {},
   "outputs": [],
   "source": [
    "xsol = [[z[i] for z in xsol] for i=1:n];"
   ]
  },
  {
   "cell_type": "code",
   "execution_count": 39,
   "metadata": {},
   "outputs": [
    {
     "data": {
      "image/png": "[encoded data removed]"
     },
     "execution_count": 39,
     "metadata": {},
     "output_type": "execute_result"
    }
   ],
   "source": [
    "plot(sol.t,xsol[:],linewidth=2,xlabel=L\"t\",ylabel=L\"x(t)\",label=[L\"x_1\" L\"x_2\"])"
   ]
  },
  {
   "cell_type": "markdown",
   "metadata": {},
   "source": [
    "## References\n",
    "\n",
    "[1] Lewis, Frank, Draguna Vrabie, and Vassilis L. Syrmos. Optimal Control. 3rd edition. Hoboken: Wiley, 2012.\n",
    "\n",
    "[2] Kirk, Donald E. Optimal Control Theory: An Introduction. Dover Publications, 2004."
   ]
  }
 ],
 "metadata": {
  "kernelspec": {
   "display_name": "Julia 1.4.0",
   "language": "julia",
   "name": "julia-1.4"
  },
  "language_info": {
   "file_extension": ".jl",
   "mimetype": "application/julia",
   "name": "julia",
   "version": "1.4.0"
  }
 },
 "nbformat": 4,
 "nbformat_minor": 4
}
