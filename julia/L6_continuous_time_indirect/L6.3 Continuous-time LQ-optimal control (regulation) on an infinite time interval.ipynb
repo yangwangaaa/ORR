{
 "cells": [
  {
   "cell_type": "markdown",
   "metadata": {},
   "source": [
    "# Continuous-time LQ-optimal control (regulation) on an infinite time interval"
   ]
  },
  {
   "cell_type": "markdown",
   "metadata": {},
   "source": [
    "We consider an LTI state-space model, a quadratic cost function, and a fixed initial state. The goal is to bring the state towards the origin (we call this *regulation*). An infinite time interval $[0,\\infty]$ is available - this is not to say that we do not care when the task is accomplished."
   ]
  },
  {
   "cell_type": "markdown",
   "metadata": {},
   "source": [
    "\\begin{align*}\n",
    " \\underset{\\mathbf x(t),\\mathbf u(t)}{\\text{minimize}}&\\quad\\int_{0}^{\\infty}\\left[\\mathbf x^\\text{T}(t)\\mathbf Q\\mathbf x(t)+\\mathbf u^\\text{T}(t)\\mathbf R\\mathbf u(t)\\right]\\text{d}t\\\\\n",
    " \\text{subject to}&\\quad \\dot{\\mathbf x}(t)= \\mathbf A\\mathbf x(t)+ \\mathbf B\\mathbf u(t),\\\\\n",
    " &\\quad \\mathbf{x}(0) = \\mathbf{r}_0.\n",
    "\\end{align*}"
   ]
  },
  {
   "cell_type": "markdown",
   "metadata": {},
   "source": [
    "Steady-state solution to the differential Riccati eqution can found by solving Algebraic Riccati equation (ARE)"
   ]
  },
  {
   "cell_type": "markdown",
   "metadata": {},
   "source": [
    "\\begin{equation}\\boxed{\n",
    " \\mathbf 0=  \\mathbf S \\mathbf A + \\mathbf A^\\text{T} \\mathbf S + \\mathbf Q - \\mathbf S\\mathbf B\\mathbf R^{-1}\\mathbf B^\\text{T} \\mathbf S.}\n",
    "\\end{equation}"
   ]
  },
  {
   "cell_type": "markdown",
   "metadata": {},
   "source": [
    "Then an LTI state feedback is given by"
   ]
  },
  {
   "cell_type": "markdown",
   "metadata": {},
   "source": [
    "\\begin{equation*}\\boxed{\n",
    " \\mathbf u(t) = -\\underbrace{\\mathbf R^{-1}\\mathbf B^\\text{T}\\mathbf S}_{\\mathbf K}\\mathbf x(t).}\n",
    "\\end{equation*}"
   ]
  },
  {
   "cell_type": "markdown",
   "metadata": {},
   "source": [
    "We are not going to implement our own solver for the continuous-time algebraic Riccati equation. Instead, we are going to use one implemented in [ControlSystems](https://github.com/JuliaControl/ControlSystems.jl) package. Alternatively, there is [MatrixEquations](https://github.com/andreasvarga/MatrixEquations.jl) package."
   ]
  },
  {
   "cell_type": "code",
   "execution_count": 1,
   "metadata": {},
   "outputs": [],
   "source": [
    "using ControlSystems\n",
    "using LinearAlgebra # For identity matrix I"
   ]
  },
  {
   "cell_type": "markdown",
   "metadata": {},
   "source": [
    "We build the system matrices"
   ]
  },
  {
   "cell_type": "code",
   "execution_count": 22,
   "metadata": {},
   "outputs": [
    {
     "data": {
      "text/plain": [
       "2×2 Array{Float64,2}:\n",
       " 1.0  0.0\n",
       " 0.0  1.0"
      ]
     },
     "execution_count": 22,
     "metadata": {},
     "output_type": "execute_result"
    }
   ],
   "source": [
    "n = 2\n",
    "m = 2\n",
    "\n",
    "A = rand(n,n)\n",
    "B = rand(n,m)\n",
    "C = Matrix{Float64}(I, n, n)"
   ]
  },
  {
   "cell_type": "markdown",
   "metadata": {},
   "source": [
    "and define the `Q` and `R` weighting matrices for the LQR problem"
   ]
  },
  {
   "cell_type": "code",
   "execution_count": 23,
   "metadata": {},
   "outputs": [],
   "source": [
    "Q = 100* Matrix{Float64}(I,n,n);\n",
    "R = Matrix{Float64}(I, nu, nu);"
   ]
  },
  {
   "cell_type": "markdown",
   "metadata": {},
   "source": [
    "In fact, the `ControlSystems` package contains a higher-level [lqr](http://juliacontrol.github.io/ControlSystems.jl/latest/lib/synthesis/#ControlSystems.lqr) function for computing the state-feedback gain directly"
   ]
  },
  {
   "cell_type": "code",
   "execution_count": 24,
   "metadata": {},
   "outputs": [
    {
     "data": {
      "text/plain": [
       "2×2 Array{Float64,2}:\n",
       " -1.40486  9.56843\n",
       " 10.1694   2.52228"
      ]
     },
     "execution_count": 24,
     "metadata": {},
     "output_type": "execute_result"
    }
   ],
   "source": [
    "K = lqr(A,B,Q,R)"
   ]
  },
  {
   "cell_type": "markdown",
   "metadata": {},
   "source": [
    "Now that we have the state-feedback gains, we can simulate the response. Usin the package, we can define a state-space model first"
   ]
  },
  {
   "cell_type": "code",
   "execution_count": 25,
   "metadata": {},
   "outputs": [
    {
     "data": {
      "text/plain": [
       "StateSpace{Float64,Array{Float64,2}}\n",
       "A = \n",
       " 0.335594417745511   0.6055326142370221\n",
       " 0.5073500788781355  0.03683555345764877\n",
       "B = \n",
       " 0.05032808762066043  0.9525985945324567\n",
       " 0.8169604008890095   0.40870671771764155\n",
       "C = \n",
       " 1.0  0.0\n",
       " 0.0  1.0\n",
       "D = \n",
       " 0.0  0.0\n",
       " 0.0  0.0\n",
       "\n",
       "Continuous-time state-space model"
      ]
     },
     "execution_count": 25,
     "metadata": {},
     "output_type": "execute_result"
    }
   ],
   "source": [
    "G = ss(A,B,C,0)"
   ]
  },
  {
   "cell_type": "code",
   "execution_count": 31,
   "metadata": {},
   "outputs": [
    {
     "ename": "LoadError",
     "evalue": "syntax: extra token \"then\" after end of expression",
     "output_type": "error",
     "traceback": [
      "syntax: extra token \"then\" after end of expression",
      ""
     ]
    }
   ],
   "source": [
    "and then define the state-feedback gain"
   ]
  },
  {
   "cell_type": "code",
   "execution_count": 26,
   "metadata": {},
   "outputs": [
    {
     "data": {
      "text/plain": [
       "u (generic function with 1 method)"
      ]
     },
     "execution_count": 26,
     "metadata": {},
     "output_type": "execute_result"
    }
   ],
   "source": [
    "u(x,t) = -K*x"
   ]
  },
  {
   "cell_type": "markdown",
   "metadata": {},
   "source": [
    "Specifying the time interval and the initial state"
   ]
  },
  {
   "cell_type": "code",
   "execution_count": 27,
   "metadata": {},
   "outputs": [
    {
     "data": {
      "text/plain": [
       "2-element Array{Int64,1}:\n",
       " 1\n",
       " 3"
      ]
     },
     "execution_count": 27,
     "metadata": {},
     "output_type": "execute_result"
    }
   ],
   "source": [
    "t = 0:0.1:5\n",
    "x₀ = [1,3]"
   ]
  },
  {
   "cell_type": "markdown",
   "metadata": {},
   "source": [
    "the response to the initial conditions can be simulated by"
   ]
  },
  {
   "cell_type": "code",
   "execution_count": 28,
   "metadata": {},
   "outputs": [
    {
     "data": {
      "text/plain": [
       "([1.0 3.0; 0.12747573641957702 1.175814054544444; … ; 2.1650151481741636e-7 2.0600347713660948e-7; 7.363975322105894e-8 7.014071561688358e-8], 0.0:0.1:5.0, [1.0 3.0; 0.12747573641957702 1.175814054544444; … ; 2.1650151481741636e-7 2.0600347713660948e-7; 7.363975322105894e-8 7.014071561688358e-8], [-27.3004258777579 -17.73626617335605; -11.071607621149372 -4.26208943472246; … ; -1.6669750673587898e-6 -2.721293464088806e-6; -5.676828254951678e-7 -9.257881644459309e-7])"
      ]
     },
     "execution_count": 28,
     "metadata": {},
     "output_type": "execute_result"
    }
   ],
   "source": [
    "y, t, x, uout = lsim(G,u,t,x0=x₀)"
   ]
  },
  {
   "cell_type": "markdown",
   "metadata": {},
   "source": [
    "Plotting is then an easy task"
   ]
  },
  {
   "cell_type": "code",
   "execution_count": 29,
   "metadata": {},
   "outputs": [],
   "source": [
    "using Plots, LaTeXStrings"
   ]
  },
  {
   "cell_type": "code",
   "execution_count": 30,
   "metadata": {},
   "outputs": [
    {
     "data": {
      "image/svg+xml": [
       "<?xml version=\"1.0\" encoding=\"utf-8\"?>\n",
       "<svg xmlns=\"http://www.w3.org/2000/svg\" xmlns:xlink=\"http://www.w3.org/1999/xlink\" width=\"600\" height=\"400\" viewBox=\"0 0 2400 1600\">\n",
       "<defs>\n",
       "  <clipPath id=\"clip0700\">\n",
       "    <rect x=\"0\" y=\"0\" width=\"2400\" height=\"1600\"/>\n",
       "  </clipPath>\n",
       "</defs>\n",
       "<path clip-path=\"url(#clip0700)\" d=\"\n",
       "M0 1600 L2400 1600 L2400 0 L0 0  Z\n",
       "  \" fill=\"#ffffff\" fill-rule=\"evenodd\" fill-opacity=\"1\"/>\n",
       "<defs>\n",
       "  <clipPath id=\"clip0701\">\n",
       "    <rect x=\"480\" y=\"0\" width=\"1681\" height=\"1600\"/>\n",
       "  </clipPath>\n",
       "</defs>\n",
       "<path clip-path=\"url(#clip0700)\" d=\"\n",
       "M173.502 1443.73 L2352.76 1443.73 L2352.76 47.2441 L173.502 47.2441  Z\n",
       "  \" fill=\"#ffffff\" fill-rule=\"evenodd\" fill-opacity=\"1\"/>\n",
       "<defs>\n",
       "  <clipPath id=\"clip0702\">\n",
       "    <rect x=\"173\" y=\"47\" width=\"2180\" height=\"1397\"/>\n",
       "  </clipPath>\n",
       "</defs>\n",
       "<polyline clip-path=\"url(#clip0702)\" style=\"stroke:#000000; stroke-width:2; stroke-opacity:0.1; fill:none\" points=\"\n",
       "  235.179,1443.73 235.179,47.2441 \n",
       "  \"/>\n",
       "<polyline clip-path=\"url(#clip0702)\" style=\"stroke:#000000; stroke-width:2; stroke-opacity:0.1; fill:none\" points=\"\n",
       "  646.359,1443.73 646.359,47.2441 \n",
       "  \"/>\n",
       "<polyline clip-path=\"url(#clip0702)\" style=\"stroke:#000000; stroke-width:2; stroke-opacity:0.1; fill:none\" points=\"\n",
       "  1057.54,1443.73 1057.54,47.2441 \n",
       "  \"/>\n",
       "<polyline clip-path=\"url(#clip0702)\" style=\"stroke:#000000; stroke-width:2; stroke-opacity:0.1; fill:none\" points=\"\n",
       "  1468.72,1443.73 1468.72,47.2441 \n",
       "  \"/>\n",
       "<polyline clip-path=\"url(#clip0702)\" style=\"stroke:#000000; stroke-width:2; stroke-opacity:0.1; fill:none\" points=\"\n",
       "  1879.9,1443.73 1879.9,47.2441 \n",
       "  \"/>\n",
       "<polyline clip-path=\"url(#clip0702)\" style=\"stroke:#000000; stroke-width:2; stroke-opacity:0.1; fill:none\" points=\"\n",
       "  2291.08,1443.73 2291.08,47.2441 \n",
       "  \"/>\n",
       "<polyline clip-path=\"url(#clip0702)\" style=\"stroke:#000000; stroke-width:2; stroke-opacity:0.1; fill:none\" points=\"\n",
       "  173.502,1374.64 2352.76,1374.64 \n",
       "  \"/>\n",
       "<polyline clip-path=\"url(#clip0702)\" style=\"stroke:#000000; stroke-width:2; stroke-opacity:0.1; fill:none\" points=\"\n",
       "  173.502,945.349 2352.76,945.349 \n",
       "  \"/>\n",
       "<polyline clip-path=\"url(#clip0702)\" style=\"stroke:#000000; stroke-width:2; stroke-opacity:0.1; fill:none\" points=\"\n",
       "  173.502,516.058 2352.76,516.058 \n",
       "  \"/>\n",
       "<polyline clip-path=\"url(#clip0702)\" style=\"stroke:#000000; stroke-width:2; stroke-opacity:0.1; fill:none\" points=\"\n",
       "  173.502,86.7672 2352.76,86.7672 \n",
       "  \"/>\n",
       "<polyline clip-path=\"url(#clip0700)\" style=\"stroke:#000000; stroke-width:4; stroke-opacity:1; fill:none\" points=\"\n",
       "  173.502,1443.73 2352.76,1443.73 \n",
       "  \"/>\n",
       "<polyline clip-path=\"url(#clip0700)\" style=\"stroke:#000000; stroke-width:4; stroke-opacity:1; fill:none\" points=\"\n",
       "  173.502,1443.73 173.502,47.2441 \n",
       "  \"/>\n",
       "<polyline clip-path=\"url(#clip0700)\" style=\"stroke:#000000; stroke-width:4; stroke-opacity:1; fill:none\" points=\"\n",
       "  235.179,1443.73 235.179,1426.97 \n",
       "  \"/>\n",
       "<polyline clip-path=\"url(#clip0700)\" style=\"stroke:#000000; stroke-width:4; stroke-opacity:1; fill:none\" points=\"\n",
       "  646.359,1443.73 646.359,1426.97 \n",
       "  \"/>\n",
       "<polyline clip-path=\"url(#clip0700)\" style=\"stroke:#000000; stroke-width:4; stroke-opacity:1; fill:none\" points=\"\n",
       "  1057.54,1443.73 1057.54,1426.97 \n",
       "  \"/>\n",
       "<polyline clip-path=\"url(#clip0700)\" style=\"stroke:#000000; stroke-width:4; stroke-opacity:1; fill:none\" points=\"\n",
       "  1468.72,1443.73 1468.72,1426.97 \n",
       "  \"/>\n",
       "<polyline clip-path=\"url(#clip0700)\" style=\"stroke:#000000; stroke-width:4; stroke-opacity:1; fill:none\" points=\"\n",
       "  1879.9,1443.73 1879.9,1426.97 \n",
       "  \"/>\n",
       "<polyline clip-path=\"url(#clip0700)\" style=\"stroke:#000000; stroke-width:4; stroke-opacity:1; fill:none\" points=\"\n",
       "  2291.08,1443.73 2291.08,1426.97 \n",
       "  \"/>\n",
       "<polyline clip-path=\"url(#clip0700)\" style=\"stroke:#000000; stroke-width:4; stroke-opacity:1; fill:none\" points=\"\n",
       "  173.502,1374.64 199.654,1374.64 \n",
       "  \"/>\n",
       "<polyline clip-path=\"url(#clip0700)\" style=\"stroke:#000000; stroke-width:4; stroke-opacity:1; fill:none\" points=\"\n",
       "  173.502,945.349 199.654,945.349 \n",
       "  \"/>\n",
       "<polyline clip-path=\"url(#clip0700)\" style=\"stroke:#000000; stroke-width:4; stroke-opacity:1; fill:none\" points=\"\n",
       "  173.502,516.058 199.654,516.058 \n",
       "  \"/>\n",
       "<polyline clip-path=\"url(#clip0700)\" style=\"stroke:#000000; stroke-width:4; stroke-opacity:1; fill:none\" points=\"\n",
       "  173.502,86.7672 199.654,86.7672 \n",
       "  \"/>\n",
       "<g clip-path=\"url(#clip0700)\">\n",
       "<text style=\"fill:#000000; fill-opacity:1; font-family:Arial,Helvetica Neue,Helvetica,sans-serif; font-size:48px; text-anchor:middle;\" transform=\"rotate(0, 235.179, 1497.73)\" x=\"235.179\" y=\"1497.73\">0</text>\n",
       "</g>\n",
       "<g clip-path=\"url(#clip0700)\">\n",
       "<text style=\"fill:#000000; fill-opacity:1; font-family:Arial,Helvetica Neue,Helvetica,sans-serif; font-size:48px; text-anchor:middle;\" transform=\"rotate(0, 646.359, 1497.73)\" x=\"646.359\" y=\"1497.73\">1</text>\n",
       "</g>\n",
       "<g clip-path=\"url(#clip0700)\">\n",
       "<text style=\"fill:#000000; fill-opacity:1; font-family:Arial,Helvetica Neue,Helvetica,sans-serif; font-size:48px; text-anchor:middle;\" transform=\"rotate(0, 1057.54, 1497.73)\" x=\"1057.54\" y=\"1497.73\">2</text>\n",
       "</g>\n",
       "<g clip-path=\"url(#clip0700)\">\n",
       "<text style=\"fill:#000000; fill-opacity:1; font-family:Arial,Helvetica Neue,Helvetica,sans-serif; font-size:48px; text-anchor:middle;\" transform=\"rotate(0, 1468.72, 1497.73)\" x=\"1468.72\" y=\"1497.73\">3</text>\n",
       "</g>\n",
       "<g clip-path=\"url(#clip0700)\">\n",
       "<text style=\"fill:#000000; fill-opacity:1; font-family:Arial,Helvetica Neue,Helvetica,sans-serif; font-size:48px; text-anchor:middle;\" transform=\"rotate(0, 1879.9, 1497.73)\" x=\"1879.9\" y=\"1497.73\">4</text>\n",
       "</g>\n",
       "<g clip-path=\"url(#clip0700)\">\n",
       "<text style=\"fill:#000000; fill-opacity:1; font-family:Arial,Helvetica Neue,Helvetica,sans-serif; font-size:48px; text-anchor:middle;\" transform=\"rotate(0, 2291.08, 1497.73)\" x=\"2291.08\" y=\"1497.73\">5</text>\n",
       "</g>\n",
       "<g clip-path=\"url(#clip0700)\">\n",
       "<text style=\"fill:#000000; fill-opacity:1; font-family:Arial,Helvetica Neue,Helvetica,sans-serif; font-size:48px; text-anchor:end;\" transform=\"rotate(0, 149.502, 1392.14)\" x=\"149.502\" y=\"1392.14\">0</text>\n",
       "</g>\n",
       "<g clip-path=\"url(#clip0700)\">\n",
       "<text style=\"fill:#000000; fill-opacity:1; font-family:Arial,Helvetica Neue,Helvetica,sans-serif; font-size:48px; text-anchor:end;\" transform=\"rotate(0, 149.502, 962.849)\" x=\"149.502\" y=\"962.849\">1</text>\n",
       "</g>\n",
       "<g clip-path=\"url(#clip0700)\">\n",
       "<text style=\"fill:#000000; fill-opacity:1; font-family:Arial,Helvetica Neue,Helvetica,sans-serif; font-size:48px; text-anchor:end;\" transform=\"rotate(0, 149.502, 533.558)\" x=\"149.502\" y=\"533.558\">2</text>\n",
       "</g>\n",
       "<g clip-path=\"url(#clip0700)\">\n",
       "<text style=\"fill:#000000; fill-opacity:1; font-family:Arial,Helvetica Neue,Helvetica,sans-serif; font-size:48px; text-anchor:end;\" transform=\"rotate(0, 149.502, 104.267)\" x=\"149.502\" y=\"104.267\">3</text>\n",
       "</g>\n",
       "<g clip-path=\"url(#clip0700)\">\n",
       "<image width=\"21\" height=\"42\" xlink:href=\"data:image/png;base64,\n",
       "iVBORw0KGgoAAAANSUhEUgAAABUAAAAqCAYAAABcOxDuAAABuklEQVRIicWX4a3CIBSFz3sToCPo\n",
       "BugIHYEZGIE4AiOgIzROQByBOEF1BOIG9/1qUwqltJg8En5QLqf3fjltLiAirJlSSmKMEeecvPeU\n",
       "ilklqJQiAMPUWidFf7Fi3G63YM0YSweWZumcC7IEQF3X1WXqnIuyPB6PP6nYYtHH4xGsm6aZjf0/\n",
       "0dfrRZ/PJ3h2Pp/rRKdZAsDpdEryLBZ9Pp/BOld6segangCWfeq9j/zpnEv6s/gzbds2El06A2st\n",
       "Mcaig1untZZ+3+83pnbZOhhj2O/3+fJTPK21y+V/m+fiD2VqJc55EYZVoov+7Me3eWaZbuWZZbqV\n",
       "J5BhupknkC6/hucs0xqes0xreAIzTKt4AnH5tTyTTGt5JpnW8gQSTKt5AvgKT+89CSGG3irYtNZu\n",
       "4tm3mElRrXUgyDkvynIaGzCddnYlPC+XC4BJ7zp+6+FwCDJt2zabaZ+lECKIy4ouNQ1CCAIQ9f5B\n",
       "+Ws8eb1e6X6/wxiD3W4XNmvjNxhjiuzUf3VSyuR+9IBzPogqpYJDvR9zgknRrutoLCylJK31IAaA\n",
       "jDFZ1rMbWmtqmoYYY8NlTCk1eyEbzz+kdxcpOD+vqAAAAABJRU5ErkJggg==\n",
       "\" transform=\"translate(1253, 1520)\"/>\n",
       "</g>\n",
       "<g clip-path=\"url(#clip0700)\">\n",
       "<image width=\"66\" height=\"106\" xlink:href=\"data:image/png;base64,\n",
       "iVBORw0KGgoAAAANSUhEUgAAAEIAAABqCAYAAAAIq4ezAAAGn0lEQVR4nO1d7XHrKhBd33kFEJdA\n",
       "OiAugXSgGkgHmpTApALNLUHuQHYJJBXILgG5g30/IrhY1qcFspRoZ3aSOAqCI3aBs7vKBhEhpBRF\n",
       "gefzGVzVWgMAwOVyAa01bLdbAAAghMB2uwVCCFBKrT4/P2+CdhIA/vPd4OFwwOPxCMfjEb6+vnw1\n",
       "i5RS4JxbfXp68gsOIo5SrTXGcYyMMQSAyZQQgkIIVErh2DEg4v1ApGmKnPNJB9+klFKUUqLW+m5Q\n",
       "NkN8RFEUKKWEv3//wuVyab2WMXZl55RSa//GJ1Snd1EUCACgtYbz+QyXy+XKtyilOu/LOQcpJby8\n",
       "vAwznb6IxXHc+kSEEJimKeZ57mWqtplilmWd5sg5H9SXXiZACKm9UZIkwQfeR7MswyiKagGJ47hX\n",
       "/1qRrzZOCME4jmcx+CZNkuRmphBCOp1q7Yd5niOl9GrqJ0ky28E3zZIqIG1juPkgTdMrJJcGQFWV\n",
       "UlcPVQhRO56rH6SU9g+iKBq1HM1N3bExxm7GZr8xqwIhBNM0/TEAuJrnuTUXSuktEEmS2F/O2RH6\n",
       "UrMIMMbsWCHLMrsc/iRT6FJjAVEUISICUErtD79NzcKglPq2m0d36JFqxj/orPGT5c+jOzAXWYEo\n",
       "ZQWilBWIUoIAcTgc8PPzc1FeOMiqsdlskBACRVGMIlhPpxMCwCQsdpC1GcrDzdh23K2wL5K2sc9z\n",
       "BsIw5DDBiXjWQLiACCF6ESzBgNBao5RyED/pGwi3L8ZcmgiWYEDU8X9RFGGSJI12GwoIo4Y28AlG\n",
       "5wV1DHZVOecopbTAhAYC8d/J0ZeZdF7g2uZQzbIsKBjGTHw40F4XxXFcG9voq4wxjOPYOzBa60Gx\n",
       "i9FAGFVKYZIkGEXRbICJouiKcpsEiKrmeY5JkqAQ4ooynxIYKSUSQh4LRN1UdeMiUwAjhPACRLCz\n",
       "BsB3VNskjRyPRzifz3e1xxgDzjnsdjuglILb9sfHB3DO4XA4jDuP+JwRdpo1LJ9mxow1papKKedl\n",
       "Gl1AhADGh6N8OBBjgWGMeQtIBfURiDjKbouiQKUUfH19gfkK8M9nvL29eeMpZg3ElBKEqiOEhGg2\n",
       "qHjPswQASNP07qXyUbJGukpZ6fxSViBKWYEo5c9+v0eT8fobxY6fMYaU0l+VLWPUsG95nn9zCgD9\n",
       "kjJ/kpqEesNuASLaPCoA+LEZdUa11vYc46ZM2QtcQsV3zGAummWZpRg551djvLrQBYNSGpyFnnIW\n",
       "uHnldQ/65o+qedhRFC069zJJkiuiuSkO0ohgtTpnaYAYUtf0nxDSOsM7G3PBMLY1V4eqlMK6Aps+\n",
       "RSydjbv5y1UVQjzcj5jB1zFaQ6oLet8wTdNW+sxQ8CHLmUwZk5Sys7BuaPRr8DF8v9+jlLJXTacp\n",
       "cNtut0AptYWtAGAL3IxorW1BbPXr+XzudT9CCAgh4P39fXhd6L1PJ89zHBsT9aVRFI02US9TNssy\n",
       "77GKNiWE2FQEX2ck7wxVURS2JFopZes3xwil1DLXnPMgWXaTUXWn08kWyxtgjB8wZK9bIGuKZr3X\n",
       "gDfIylmWsjJUpaxAlLICUcoKRCkrEKWsQJQSJPY5hZiIO4CfqLt3IF5fX20HR+c1TSjeN1Tuk9Ja\n",
       "B9sZmvv4KJABCOAj3NwI876pJcginaUpcfIp3oFwCZcQySKfn5+42+1q7zdGgs6I4/Hotb39fo+7\n",
       "3W70sb5WfPOKLtFLCPHGX9Yx6gC3L8R4KEPlapWl8gFG06uVFgWE0Xs4Ra115zvwZgtEG5k7JDCU\n",
       "53kvYthHZn5wIOpmR58EcjdNYbFAVM2hGlQGaA++NDlFV6vmMnsgDNVeZ+t177XpU0hnqoFnD0Sb\n",
       "VsN0Jlmjj1OsmhUhBI0uDgjE26XQJLN1gRA6Aj85EIjt78asc4ZTJLk9BAjEWzNpcopTpT0+BIS+\n",
       "TnHKPk0KQF1KUp1WM95+FBB1+4k29VHm/FAgOOdo1HymlOrcLhNCboCa0jz8N1jZ6PSpDHadYtNe\n",
       "Y9FA3OsU6/Ya1dVDa41GZwnEkFSiNj9Q3Wu4vMYitth9geiT9mdeoVLdXFVPp7MEomtlGLpTrDuS\n",
       "VzNqFwfEve/UbVt1ZgtE0ylyrPdv2of4ouomCfAIIUbHQZ+fnzdKKWCM+erWtYQ2Dd9vEdNaY5UO\n",
       "nP2MyLLMa0U/wPf/5Hh/f/fZJAAEiHS5gd/X19cgkXDOufc2FxkEDhFx9w5EkLhkRXwFfl1Z5Ixw\n",
       "xRfw3lOHlFK+m7yRp6enTXmg8yb/A7VpYMyK8tkiAAAAAElFTkSuQmCC\n",
       "\" transform=\"translate(31, 692)\"/>\n",
       "</g>\n",
       "<polyline clip-path=\"url(#clip0702)\" style=\"stroke:#009af9; stroke-width:8; stroke-opacity:1; fill:none\" points=\"\n",
       "  235.179,945.349 276.297,1319.92 317.415,1399.38 358.533,1404.2 399.651,1395.21 440.769,1386.93 481.887,1381.5 523.005,1378.34 564.123,1376.6 605.241,1375.67 \n",
       "  646.359,1375.17 687.477,1374.92 728.595,1374.78 769.713,1374.71 810.831,1374.68 851.949,1374.66 893.067,1374.65 934.185,1374.65 975.303,1374.64 1016.42,1374.64 \n",
       "  1057.54,1374.64 1098.66,1374.64 1139.78,1374.64 1180.89,1374.64 1222.01,1374.64 1263.13,1374.64 1304.25,1374.64 1345.37,1374.64 1386.48,1374.64 1427.6,1374.64 \n",
       "  1468.72,1374.64 1509.84,1374.64 1550.96,1374.64 1592.07,1374.64 1633.19,1374.64 1674.31,1374.64 1715.43,1374.64 1756.55,1374.64 1797.66,1374.64 1838.78,1374.64 \n",
       "  1879.9,1374.64 1921.02,1374.64 1962.14,1374.64 2003.25,1374.64 2044.37,1374.64 2085.49,1374.64 2126.61,1374.64 2167.72,1374.64 2208.84,1374.64 2249.96,1374.64 \n",
       "  2291.08,1374.64 \n",
       "  \"/>\n",
       "<polyline clip-path=\"url(#clip0702)\" style=\"stroke:#e26f46; stroke-width:8; stroke-opacity:1; fill:none\" points=\"\n",
       "  235.179,86.7672 276.297,869.874 317.415,1165.2 358.533,1282.89 399.651,1332.53 440.769,1354.6 481.887,1364.85 523.005,1369.77 564.123,1372.19 605.241,1373.39 \n",
       "  646.359,1374 687.477,1374.31 728.595,1374.47 769.713,1374.55 810.831,1374.6 851.949,1374.62 893.067,1374.63 934.185,1374.63 975.303,1374.64 1016.42,1374.64 \n",
       "  1057.54,1374.64 1098.66,1374.64 1139.78,1374.64 1180.89,1374.64 1222.01,1374.64 1263.13,1374.64 1304.25,1374.64 1345.37,1374.64 1386.48,1374.64 1427.6,1374.64 \n",
       "  1468.72,1374.64 1509.84,1374.64 1550.96,1374.64 1592.07,1374.64 1633.19,1374.64 1674.31,1374.64 1715.43,1374.64 1756.55,1374.64 1797.66,1374.64 1838.78,1374.64 \n",
       "  1879.9,1374.64 1921.02,1374.64 1962.14,1374.64 2003.25,1374.64 2044.37,1374.64 2085.49,1374.64 2126.61,1374.64 2167.72,1374.64 2208.84,1374.64 2249.96,1374.64 \n",
       "  2291.08,1374.64 \n",
       "  \"/>\n",
       "<path clip-path=\"url(#clip0700)\" d=\"\n",
       "M1997.76 312.204 L2280.76 312.204 L2280.76 130.764 L1997.76 130.764  Z\n",
       "  \" fill=\"#ffffff\" fill-rule=\"evenodd\" fill-opacity=\"1\"/>\n",
       "<polyline clip-path=\"url(#clip0700)\" style=\"stroke:#000000; stroke-width:4; stroke-opacity:1; fill:none\" points=\"\n",
       "  1997.76,312.204 2280.76,312.204 2280.76,130.764 1997.76,130.764 1997.76,312.204 \n",
       "  \"/>\n",
       "<polyline clip-path=\"url(#clip0700)\" style=\"stroke:#009af9; stroke-width:8; stroke-opacity:1; fill:none\" points=\"\n",
       "  2021.76,191.244 2165.76,191.244 \n",
       "  \"/>\n",
       "<g clip-path=\"url(#clip0700)\">\n",
       "<image width=\"42\" height=\"28\" xlink:href=\"data:image/png;base64,\n",
       "iVBORw0KGgoAAAANSUhEUgAAACoAAAAcCAYAAAAX4C3rAAACfklEQVRYhe1X0W2rMBQ9rTrAhRGc\n",
       "TuB2BEawOoKzgdUR3E6QGVAmoB2BZgKnI5hucN7HExYEAiGh0vt4R7oSwRfn+PjaPgZJjEUIgcYY\n",
       "KqUIgEopOucYY+RprveeWuuUZ61lCGGQd0uMvvTeEwCdc6zrmjFGtu+UUolEjJFaaxpjUl5VVdRa\n",
       "U0RWJTt4Ya09+yfWWgKg1pokURQFjTEcywEwaFuNaFmWBHBWiba9JaGU4rl2ACyK4neIigjLsjzb\n",
       "eV3XPSK73a6X25ZHG9779Yk65wYKTSkKYJAbY0yLz1q7GskeUREZKHQazrlEsq3TtSLGSGMMRWS0\n",
       "3wcAaJqGeZ5ju93eYQKHwyE9F0UxlTqLpmkYY8T39zf2+z3KssTPz8/5D5aMWkSSolVVXa3obrdL\n",
       "/YgIrbVpHx4rqd7Uz0UIYbI+l05zCKF3eBhjJvt+uHSqPj8/07PWevlcd5Bl2V2WZYu+ub80sUv0\n",
       "1vq8BlcRfX5+/hUyU7iIaNM07K7If1bRrppKKWRZNrmNPT098Xg88kZuPSwmOqfmx8cHD4cDNpvN\n",
       "5GCW4h4A3t7emGUZN5sNv76+BkqUZZmelVKTHb6/v8MYsybHv6iqqrc/np7Rp+2XmJYxcz0Xc/vo\n",
       "/X6/7xE/Vez19bU33THG0QE3TcOXlxd472dr+Cp0rdmpf/TeJ0fVjnjMY3ad/rWn1ZyiyZq1XjTG\n",
       "yLquaa3tXTtIoj2P27tTCCFdUW61dbNEW0VaP4qOUZi7yIkIi6K4yaAsIvovxOxiWr3ofwn/ia6N\n",
       "i/3o2jgej8no1HWN7n6+3W5pjEGe5xAR5HmOO3JV73AxycfHx/RbREbz2oE45/AHCJ2WEtAB6GcA\n",
       "AAAASUVORK5CYII=\n",
       "\" transform=\"translate(2190, 177)\"/>\n",
       "</g>\n",
       "<polyline clip-path=\"url(#clip0700)\" style=\"stroke:#e26f46; stroke-width:8; stroke-opacity:1; fill:none\" points=\"\n",
       "  2021.76,251.724 2165.76,251.724 \n",
       "  \"/>\n",
       "<g clip-path=\"url(#clip0700)\">\n",
       "<image width=\"43\" height=\"28\" xlink:href=\"data:image/png;base64,\n",
       "iVBORw0KGgoAAAANSUhEUgAAACsAAAAcCAYAAAD4IkbVAAAClklEQVRYhc1X0Y3jIBCdvQpmW6AE\n",
       "lBLQVoC2BEqgBkpIDWwHzpaAUoGVElA6ePdxGg5sHDtxsneWRrLMmHk8ZoYHAaCejeMIay2UUiAi\n",
       "KKXgvUfOGVPfEAK01sXPOYdxHGd+e637MYQAIoL3Hikl5Jwh35RSBUjOGVprWGuL3zAM0FqDmZ8O\n",
       "ePbBObcYyDkHIoLWGgDIGANrLXo+RDQbeyrYGCOIaJERGRcgSiksjRMRjDGvA8vMiDEuBkgpNWCO\n",
       "x2PjK6kiFkJ4DVjv/YypW8wS0cw351wK0jn3VKANWGaeMTU1730BKnm7x8ZxhHOuLJCZYYyBcw7D\n",
       "MMzmbxhZm9wYU8B673eBDSGAmWGtRYwRKSXEGGGtbQip6+euAMxcJuqt/F6gKaXuHMfjscSpO9Nd\n",
       "W3YrX7eaFOkS0F7KSVfZHKRe7Z58lRxd25mcc0NOSgm/aOPz/f1d3o0xW3+bPSklulwu9PHxQafT\n",
       "CUt+7+/vb1rrJv5DYA+Hw6NY6Xq9lvfz+XzTVylV3i+Xy7Y0mG5JT8xstRgjmBla69V56u4TQtge\n",
       "QH7a0uKmLedRm3afzUUhP62dTMMw7OoW03lqggj42/eUUt2WUq9w7bzvKbFHTPSxsAqAmhX0mJuO\n",
       "bxE6e3IaaHtsLQGaLe4xp7VGnehL+kGO7L1Kq66PaaxG1k31Zwih5Iuc2T2NWt8YnpGnzNwXMsKI\n",
       "aNmcM1JKRQ3VVS15JHexcRzLdWevJBSg05gNWGFG9KyszDm3ejkUSbdH1NRA124Wuyr2GSY5emtn\n",
       "nHPw3v8fQNdEv9YaMcZ/C3SpkGoTaZpSwhuwKHxe9nx9feHz85OYuREr0+d6vf4RMEQE4O3HGa11\n",
       "8VZrjtuftPro3mrSJX4DRRdiH6Zk6RQAAAAASUVORK5CYII=\n",
       "\" transform=\"translate(2190, 238)\"/>\n",
       "</g>\n",
       "</svg>\n"
      ]
     },
     "execution_count": 30,
     "metadata": {},
     "output_type": "execute_result"
    }
   ],
   "source": [
    "plot(t,x,xlabel=L\"t\",ylabel=L\"\\mathbf x(t)\", label=[L\"x_1\" L\"x_2\"],linewidth=2)"
   ]
  },
  {
   "cell_type": "markdown",
   "metadata": {},
   "source": [
    "## References\n",
    "\n",
    "[1] Lewis, Frank, Draguna Vrabie, and Vassilis L. Syrmos. Optimal Control. 3rd edition. Hoboken: Wiley, 2012.\n",
    "\n",
    "[2] Kirk, Donald E. Optimal Control Theory: An Introduction. Dover Publications, 2004."
   ]
  }
 ],
 "metadata": {
  "kernelspec": {
   "display_name": "Julia 1.4.0",
   "language": "julia",
   "name": "julia-1.4"
  },
  "language_info": {
   "file_extension": ".jl",
   "mimetype": "application/julia",
   "name": "julia",
   "version": "1.4.0"
  }
 },
 "nbformat": 4,
 "nbformat_minor": 4
}
