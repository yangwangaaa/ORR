{
 "cells": [
  {
   "cell_type": "markdown",
   "metadata": {},
   "source": [
    "# LQ-optimal regulator design for F16 lateral-directional dynamics"
   ]
  },
  {
   "cell_type": "markdown",
   "metadata": {},
   "source": [
    "## Building a continuous-time linear state-space model for the system"
   ]
  },
  {
   "cell_type": "markdown",
   "metadata": {},
   "source": [
    "Example 5.3-1 from [Stevens & Lewis, 3rd ed., 2015](https://www.wiley.com/en-us/Aircraft+Control+and+Simulation%3A+Dynamics%2C+Controls+Design%2C+and+Autonomous+Systems%2C+3rd+Edition-p-9781118870983), page 407. Linear model of lateral-directional dynamics of F16 trimmed at: VT=502ft/s, 302psf dynamic pressure, cg @ 0.35cbar. Includes dynamics of ailerons and rudders and washout filter."
   ]
  },
  {
   "cell_type": "markdown",
   "metadata": {},
   "source": [
    "<img src=f16_lqr.png width=800px>"
   ]
  },
  {
   "cell_type": "markdown",
   "metadata": {},
   "source": [
    "| Symbol        | Name           | Units  |\n",
    "|:--------------|:---------------|:------:|\n",
    "| β             | sideslip angle |  rad   |\n",
    "| ϕ             | bank angle     |  rad   |\n",
    "| p             | roll rate      |  rad/s |\n",
    "| r             | yaw rate       |  rad/s |"
   ]
  },
  {
   "cell_type": "code",
   "execution_count": 1,
   "metadata": {},
   "outputs": [],
   "source": [
    "A = [-0.3220  0.0640   0.0364    -0.9917    0.0003     0.0008   0;\n",
    "    0         0        1         0.0037     0          0        0;\n",
    "    -30.6492  0        -3.6784   0.6646     -0.7333    0.1315   0;\n",
    "    8.5396    0        -0.0254   -0.4764    -0.0319    -0.062   0;\n",
    "    0         0        0         0          -20.2      0        0;\n",
    "    0         0        0         0          0          -20.2    0;\n",
    "    0         0        0         57.2958    0          0       -1];\n",
    "\n",
    "B = [0     0;\n",
    "    0      0;\n",
    "    0      0;\n",
    "    0      0;\n",
    "    20.2   0;\n",
    "    0      20.2;\n",
    "    0      0];\n",
    "\n",
    "C = [0      0       0       57.2958 0      0    -1;\n",
    "    0       0       57.2958 0       0      0     0;\n",
    "    57.2958 0       0       0       0      0     0;\n",
    "    0       57.2958 0       0       0      0     0];"
   ]
  },
  {
   "cell_type": "markdown",
   "metadata": {},
   "source": [
    "The `C` matrix converts from radians to degrees."
   ]
  },
  {
   "cell_type": "code",
   "execution_count": 2,
   "metadata": {},
   "outputs": [
    {
     "name": "stderr",
     "output_type": "stream",
     "text": [
      "┌ Info: Precompiling ControlSystems [a6e380b2-a6ca-5380-bf3e-84a91bcd477e]\n",
      "└ @ Base loading.jl:1273\n"
     ]
    }
   ],
   "source": [
    "using ControlSystems, LinearAlgebra"
   ]
  },
  {
   "cell_type": "code",
   "execution_count": 3,
   "metadata": {},
   "outputs": [],
   "source": [
    "G = ss(A,B,C,0);"
   ]
  },
  {
   "cell_type": "markdown",
   "metadata": {},
   "source": [
    "## Conversion of the model to discrete time "
   ]
  },
  {
   "cell_type": "code",
   "execution_count": 4,
   "metadata": {},
   "outputs": [
    {
     "data": {
      "text/plain": [
       "([0.9226667967276305 0.0061993687563318516 … 0.0002121726335909019 0.0; -0.1324663143618211 0.9997066454002713 … 0.00031188493568957813 0.0; … ; 0.0 0.0 … 0.13265546508012172 0.0; 2.292290658677099 0.004976965360488232 … -0.009375212477843127 0.9048374180359594], [2.821613795894789e-5 0.00018468401795193422; -0.001449606139792144 0.0002532096035015619; … ; 0.0 0.8673445349198781; -0.0037522412534400328 -0.007373986216857328], [0.0 0.0 … 0.0 -1.0; 0.0 0.0 … 0.0 0.0; 57.2958 0.0 … 0.0 0.0; 0.0 57.2958 … 0.0 0.0], [0.0 0.0; 0.0 0.0; 0.0 0.0; 0.0 0.0])"
      ]
     },
     "execution_count": 4,
     "metadata": {},
     "output_type": "execute_result"
    }
   ],
   "source": [
    "Ts = 0.1;                     # sampling period\n",
    "Gd,x0map = c2d(G,Ts);         # discretized system\n",
    "A,B,C,D = Gd.A,Gd.B,Gd.C,Gd.D"
   ]
  },
  {
   "cell_type": "markdown",
   "metadata": {},
   "source": [
    "## Setting the weights for the LQ controller"
   ]
  },
  {
   "cell_type": "code",
   "execution_count": 5,
   "metadata": {},
   "outputs": [],
   "source": [
    "q_beta = 100.0;\n",
    "q_phi = 100;\n",
    "q_p = 1;\n",
    "q_r = 1;\n",
    "q_rw = 1;\n",
    "\n",
    "r_a = 1;\n",
    "r_r = 1;"
   ]
  },
  {
   "cell_type": "code",
   "execution_count": 6,
   "metadata": {},
   "outputs": [],
   "source": [
    "q = [q_beta, q_phi, q_p, q_r, 0, 0, q_rw];\n",
    "r = [r_a, r_r];"
   ]
  },
  {
   "cell_type": "code",
   "execution_count": 7,
   "metadata": {},
   "outputs": [
    {
     "data": {
      "text/plain": [
       "7×7 Array{Float64,2}:\n",
       " 100.0    0.0  0.0  0.0  0.0  0.0  0.0\n",
       "   0.0  100.0  0.0  0.0  0.0  0.0  0.0\n",
       "   0.0    0.0  1.0  0.0  0.0  0.0  0.0\n",
       "   0.0    0.0  0.0  1.0  0.0  0.0  0.0\n",
       "   0.0    0.0  0.0  0.0  0.0  0.0  0.0\n",
       "   0.0    0.0  0.0  0.0  0.0  0.0  0.0\n",
       "   0.0    0.0  0.0  0.0  0.0  0.0  1.0"
      ]
     },
     "execution_count": 7,
     "metadata": {},
     "output_type": "execute_result"
    }
   ],
   "source": [
    "Q = diagm(0=>q)"
   ]
  },
  {
   "cell_type": "code",
   "execution_count": 8,
   "metadata": {},
   "outputs": [
    {
     "data": {
      "text/plain": [
       "2×2 Array{Int64,2}:\n",
       " 1  0\n",
       " 0  1"
      ]
     },
     "execution_count": 8,
     "metadata": {},
     "output_type": "execute_result"
    }
   ],
   "source": [
    "R = diagm(0=>r)"
   ]
  },
  {
   "cell_type": "markdown",
   "metadata": {},
   "source": [
    "## Checking controllability and observability conditions for existence of a unique stabilizing solution to ARE"
   ]
  },
  {
   "cell_type": "markdown",
   "metadata": {},
   "source": [
    "Check the controllability and observability condition"
   ]
  },
  {
   "cell_type": "code",
   "execution_count": 9,
   "metadata": {},
   "outputs": [
    {
     "data": {
      "text/plain": [
       "7"
      ]
     },
     "execution_count": 9,
     "metadata": {},
     "output_type": "execute_result"
    }
   ],
   "source": [
    "rank(ctrb(A,B))"
   ]
  },
  {
   "cell_type": "code",
   "execution_count": 10,
   "metadata": {},
   "outputs": [
    {
     "data": {
      "text/plain": [
       "7"
      ]
     },
     "execution_count": 10,
     "metadata": {},
     "output_type": "execute_result"
    }
   ],
   "source": [
    "rank(obsv(A,Q))"
   ]
  },
  {
   "cell_type": "markdown",
   "metadata": {},
   "source": [
    "## Solving the discrete-time ARE"
   ]
  },
  {
   "cell_type": "code",
   "execution_count": 11,
   "metadata": {},
   "outputs": [
    {
     "data": {
      "text/plain": [
       "7×7 Array{Float64,2}:\n",
       " 22917.0      -709.469      -79.0765     …  -3.10458     198.503    \n",
       "  -709.469     778.937      130.822          0.170749      0.0897329\n",
       "   -79.0765    130.822       30.1433         0.0581277     0.776192 \n",
       "   551.178     223.96        44.4488        -4.32512      33.617    \n",
       "     2.12913    -4.72131     -1.0744         0.00463419   -0.0687775\n",
       "    -3.10458     0.170749     0.0581277  …   0.0133334    -0.0845118\n",
       "   198.503       0.0897329    0.776192      -0.0845118     5.27494  "
      ]
     },
     "execution_count": 11,
     "metadata": {},
     "output_type": "execute_result"
    }
   ],
   "source": [
    "S = dare(A,B,Q,R)"
   ]
  },
  {
   "cell_type": "markdown",
   "metadata": {},
   "source": [
    "## Forming a feedback gain matrix based on the solution to ARE"
   ]
  },
  {
   "cell_type": "code",
   "execution_count": 12,
   "metadata": {},
   "outputs": [
    {
     "data": {
      "text/plain": [
       "2×7 Array{Float64,2}:\n",
       "  3.83005  -8.71416   -2.04247   -7.63013  0.0834495   0.00929287  -0.119255\n",
       " -9.79641   0.392317   0.126108  -8.26172  0.00832575  0.0260754   -0.157085"
      ]
     },
     "execution_count": 12,
     "metadata": {},
     "output_type": "execute_result"
    }
   ],
   "source": [
    "K = (R+B'*S*B)\\B'*S*A"
   ]
  },
  {
   "cell_type": "markdown",
   "metadata": {},
   "source": [
    "Alternatively, we could use the higher-level `lqr` or `dlqr` functions"
   ]
  },
  {
   "cell_type": "code",
   "execution_count": 13,
   "metadata": {},
   "outputs": [],
   "source": [
    "#K = lqr(Gd,Q,R)\n",
    "#K = dlqr(A,B,Q,R) # note that here A and B correspond to the discrete-time model"
   ]
  },
  {
   "cell_type": "markdown",
   "metadata": {},
   "source": [
    "## Simulating the response to nonzero initial conditions"
   ]
  },
  {
   "cell_type": "code",
   "execution_count": 14,
   "metadata": {},
   "outputs": [
    {
     "data": {
      "text/plain": [
       "u (generic function with 1 method)"
      ]
     },
     "execution_count": 14,
     "metadata": {},
     "output_type": "execute_result"
    }
   ],
   "source": [
    "u(x,t) = -K*x # Control law"
   ]
  },
  {
   "cell_type": "code",
   "execution_count": 15,
   "metadata": {},
   "outputs": [
    {
     "data": {
      "text/plain": [
       "7-element Array{Float64,1}:\n",
       " 0.1\n",
       " 0.0\n",
       " 0.0\n",
       " 0.0\n",
       " 0.0\n",
       " 0.0\n",
       " 0.0"
      ]
     },
     "execution_count": 15,
     "metadata": {},
     "output_type": "execute_result"
    }
   ],
   "source": [
    "t=0:Ts:10.0\n",
    "x0 = [1/10, 0, 0, 0, 0, 0, 0]"
   ]
  },
  {
   "cell_type": "code",
   "execution_count": 16,
   "metadata": {},
   "outputs": [
    {
     "data": {
      "text/plain": [
       "([0.0 0.0 5.72958 0.0; 4.267905268917968 -12.90044103629656 5.296240221889117 -0.7129528775280597; … ; -0.0034802880589172285 -0.005099672191666195 0.003376010636662276 0.00813730111730901; 0.0005185258900812493 -0.012254500541743095 0.0037606824792750233 0.007251190956686843], 0.0:0.1:10.0, [0.1 0.0 … 0.0 0.0; 0.09243679679643389 -0.01244337067512906 … 0.8496862981097764 0.22344233313213632; … ; 5.8922480123539175e-5 0.00014202264594104645 … -0.0016104165385973596 -0.003387682516009194; 6.56362679162351e-5 0.00012655711163273473 … -0.0010322451218726303 -0.0035321440380412135], [-0.3830048919511592 0.97964103525281; -0.27775415596125824 1.6021594916142818; … ; -0.0004341174806268835 -0.0009438170577138625; -0.0003617095226485118 -0.00033849834576412893])"
      ]
     },
     "execution_count": 16,
     "metadata": {},
     "output_type": "execute_result"
    }
   ],
   "source": [
    "y, t, x, uout = lsim(Gd,u,t,x0=x0)"
   ]
  },
  {
   "cell_type": "markdown",
   "metadata": {},
   "source": [
    "## Plotting the simulation outcomes"
   ]
  },
  {
   "cell_type": "code",
   "execution_count": 17,
   "metadata": {},
   "outputs": [],
   "source": [
    "using Plots, LaTeXStrings"
   ]
  },
  {
   "cell_type": "code",
   "execution_count": 18,
   "metadata": {},
   "outputs": [
    {
     "data": {
      "text/plain": [
       "Plots.PyPlotBackend()"
      ]
     },
     "execution_count": 18,
     "metadata": {},
     "output_type": "execute_result"
    }
   ],
   "source": [
    "pyplot()"
   ]
  },
  {
   "cell_type": "code",
   "execution_count": 19,
   "metadata": {},
   "outputs": [
    {
     "data": {
      "image/png": "[encoded data removed]"
     },
     "execution_count": 19,
     "metadata": {},
     "output_type": "execute_result"
    }
   ],
   "source": [
    "plot(t,x, label=[L\"\\beta [rad]\" L\"\\phi [rad]\" L\"p [rad/s]\" L\"r [rad/s]\" L\"\\delta_a\" L\"\\delta_r\" L\"r_w [^\\circ/s]\"], xlabel=\"Time [s]\", ylabel=\"States\",markershape=:circle,markersize=1,linetype=:steppost)"
   ]
  },
  {
   "cell_type": "code",
   "execution_count": 20,
   "metadata": {
    "scrolled": true
   },
   "outputs": [
    {
     "data": {
      "image/png": "[encoded data removed]"
     },
     "execution_count": 20,
     "metadata": {},
     "output_type": "execute_result"
    }
   ],
   "source": [
    "plot(t,y, label=[L\"r_w [^\\circ/s]\" L\"p [^\\circ/s]\" L\"\\beta [^\\circ]\" L\"\\phi [^\\circ]\"], xlabel=\"Time [s]\", ylabel=\"Outputs\",markershape=:circle,markersize=1,linetype=:steppost)"
   ]
  }
 ],
 "metadata": {
  "@webio": {
   "lastCommId": null,
   "lastKernelId": null
  },
  "kernelspec": {
   "display_name": "Julia 1.3.1",
   "language": "julia",
   "name": "julia-1.3"
  },
  "language_info": {
   "file_extension": ".jl",
   "mimetype": "application/julia",
   "name": "julia",
   "version": "1.3.1"
  },
  "latex_envs": {
   "LaTeX_envs_menu_present": true,
   "autoclose": false,
   "autocomplete": true,
   "bibliofile": "biblio.bib",
   "cite_by": "apalike",
   "current_citInitial": 1,
   "eqLabelWithNumbers": true,
   "eqNumInitial": 1,
   "hotkeys": {
    "equation": "Ctrl-E",
    "itemize": "Ctrl-I"
   },
   "labels_anchors": false,
   "latex_user_defs": false,
   "report_style_numbering": false,
   "user_envs_cfg": false
  },
  "toc": {
   "base_numbering": 1,
   "nav_menu": {},
   "number_sections": true,
   "sideBar": true,
   "skip_h1_title": false,
   "title_cell": "Table of Contents",
   "title_sidebar": "Contents",
   "toc_cell": false,
   "toc_position": {},
   "toc_section_display": true,
   "toc_window_display": true
  },
  "varInspector": {
   "cols": {
    "lenName": 16,
    "lenType": 16,
    "lenVar": 40
   },
   "kernels_config": {
    "python": {
     "delete_cmd_postfix": "",
     "delete_cmd_prefix": "del ",
     "library": "var_list.py",
     "varRefreshCmd": "print(var_dic_list())"
    },
    "r": {
     "delete_cmd_postfix": ") ",
     "delete_cmd_prefix": "rm(",
     "library": "var_list.r",
     "varRefreshCmd": "cat(var_dic_list()) "
    }
   },
   "types_to_exclude": [
    "module",
    "function",
    "builtin_function_or_method",
    "instance",
    "_Feature"
   ],
   "window_display": false
  }
 },
 "nbformat": 4,
 "nbformat_minor": 2
}
