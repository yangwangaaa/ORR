{
 "cells": [
  {
   "cell_type": "markdown",
   "metadata": {},
   "source": [
    "# Discrete-time LQ-optimal control on a fixed time horizon with fixed final states"
   ]
  },
  {
   "cell_type": "markdown",
   "metadata": {},
   "source": [
    "The goal is to find a sequence $\\mathbf{u}_{0},\\ldots,\\mathbf{u}_{N-1}$ that yields the minimum in the following problem"
   ]
  },
  {
   "cell_type": "markdown",
   "metadata": {},
   "source": [
    "\\begin{align*}\n",
    "\\min_{\\mathbf{x}_{1},\\ldots,\\mathbf{x}_{N},\\mathbf{u}_{0},\\ldots,\\mathbf{u}_{N-1}} &\\; \\frac{1}{2}\\sum_{k=0}^{N-1}\\left[\\mathbf x_k^T \\mathbf Q \\mathbf x_k+\\mathbf u_k^T \\mathbf R\\mathbf u_k\\right]\\\\\n",
    "\\text{s.t. } &\\; \\mathbf x_{k+1} = \\mathbf A \\mathbf x_{k} + \\mathbf B \\mathbf u_k,\\\\\n",
    "& \\mathbf x_0 = \\mathbf r_0,\\\\\n",
    "& \\mathbf x_N = \\mathbf r_N,\\\\\n",
    "& \\mathbf Q\\geq 0, \\mathbf R>0.\n",
    "\\end{align*}"
   ]
  },
  {
   "cell_type": "markdown",
   "metadata": {},
   "source": [
    "where $\\mathbf r_0$ and $\\mathbf r_N$ denote the desired values of the initial and final states, respectively. Note the the final state is not penalized (the corresponding term is missing in the cost function) because it is fixed and not subject to optimization."
   ]
  },
  {
   "cell_type": "markdown",
   "metadata": {},
   "source": [
    "## Two-point boundary value problem (assuming A nonsingular)"
   ]
  },
  {
   "cell_type": "markdown",
   "metadata": {},
   "source": [
    "We need to solve the following \"weird\" discrete-time system. It is weird in the sense that from the perspective of the states the time evolves forward but from the perspective of the costate it evolves backward"
   ]
  },
  {
   "cell_type": "markdown",
   "metadata": {},
   "source": [
    "\\begin{align*}\n",
    " \\mathbf x_{k+1} &=\\mathbf A\\mathbf x_k-\\mathbf B\\mathbf R^{-1}\\mathbf B^T\\boldsymbol\\lambda_{k+1},\\\\\n",
    " \\boldsymbol\\lambda_k &= \\mathbf Q\\mathbf x_k+\\mathbf A^T\\boldsymbol\\lambda_{k+1}.\n",
    "\\end{align*}"
   ]
  },
  {
   "cell_type": "markdown",
   "metadata": {},
   "source": [
    "It is a two-point boundary value problem because the state is specified on both ends of the time interval (the costate is not specified at all)"
   ]
  },
  {
   "cell_type": "markdown",
   "metadata": {},
   "source": [
    "\\begin{align*}\n",
    " \\mathbf x_0 &= \\mathbf r_0,\\\\\n",
    " \\mathbf x_N &= \\mathbf r_N.\n",
    "\\end{align*}"
   ]
  },
  {
   "cell_type": "markdown",
   "metadata": {},
   "source": [
    "Once the states and costates are obtained, the optimal control sequence is given by"
   ]
  },
  {
   "cell_type": "markdown",
   "metadata": {},
   "source": [
    "$$\\mathbf u_k = -\\mathbf R^{-1}\\mathbf B^T\\boldsymbol\\lambda_{k+1}.$$"
   ]
  },
  {
   "cell_type": "markdown",
   "metadata": {},
   "source": [
    "This assumes, of course, that $\\mathbf R$ is nonsigular but we did include this assumption in the original problem formulation."
   ]
  },
  {
   "cell_type": "markdown",
   "metadata": {},
   "source": [
    "There is not much we can do with these equations in this form. However, assuming that $\\mathbf A$ is nonsingular, we can turn these into the discrete-time Hamiltonian system, in which we reorganized the equations so that both state and co-state variables evolve backwards in time"
   ]
  },
  {
   "cell_type": "markdown",
   "metadata": {},
   "source": [
    "\\begin{equation}\n",
    "\\begin{bmatrix}\n",
    " \\mathbf x_{k}\\\\\\boldsymbol\\lambda_k\n",
    "\\end{bmatrix}\n",
    "=\\underbrace{\n",
    "\\begin{bmatrix}\n",
    " \\mathbf A^{-1} & \\mathbf A^{-1}\\mathbf B\\mathbf R^{-1}\\mathbf B^T\\\\\\mathbf Q\\mathbf A^{-1} & \\mathbf A^T+\\mathbf Q\\mathbf A^{-1}\\mathbf B\\mathbf R^{-1}\\mathbf B^T\n",
    "\\end{bmatrix}}_{\\mathbf H}\n",
    "\\begin{bmatrix}\n",
    " \\mathbf x_{k+1} \\\\ \\boldsymbol\\lambda_{k+1}\n",
    "\\end{bmatrix}\n",
    "\\end{equation}"
   ]
  },
  {
   "cell_type": "markdown",
   "metadata": {},
   "source": [
    "Extending this onto the whole time interval [0,N] we get"
   ]
  },
  {
   "cell_type": "markdown",
   "metadata": {},
   "source": [
    "\\begin{equation}\n",
    "\\begin{bmatrix}\n",
    " \\mathbf x_{0}\\\\\\boldsymbol\\lambda_0\n",
    "\\end{bmatrix}\n",
    "=\\underbrace{\n",
    "\\begin{bmatrix}\n",
    " \\mathbf A^{-1} & \\mathbf A^{-1}\\mathbf B\\mathbf R^{-1}\\mathbf B^T\\\\\\mathbf Q\\mathbf A^{-1} & \\mathbf A^T+\\mathbf Q\\mathbf A^{-1}\\mathbf B\\mathbf R^{-1}\\mathbf B^T\n",
    "\\end{bmatrix}^N}_{\\mathbf M:=\\mathbf H^N}\n",
    "\\begin{bmatrix}\n",
    " \\mathbf x_{N} \\\\ \\boldsymbol\\lambda_{N}\n",
    "\\end{bmatrix}\n",
    "\\end{equation}"
   ]
  },
  {
   "cell_type": "markdown",
   "metadata": {},
   "source": [
    "From the first equation we can get $\\boldsymbol \\lambda_N$. Namely from"
   ]
  },
  {
   "cell_type": "markdown",
   "metadata": {},
   "source": [
    "$$\n",
    "\\mathbf M_{12}\\boldsymbol \\lambda_N = \\mathbf x_0-\\mathbf M_{11}\\mathbf x_N,\n",
    "$$"
   ]
  },
  {
   "cell_type": "markdown",
   "metadata": {},
   "source": [
    "we can get (after substituting for the known initial and final states)"
   ]
  },
  {
   "cell_type": "markdown",
   "metadata": {},
   "source": [
    "$$\n",
    "\\boldsymbol \\lambda_N = \\mathbf M_{12}^{-1}(\\mathbf r_0-\\mathbf M_{11}\\mathbf r_N).\n",
    "$$"
   ]
  },
  {
   "cell_type": "markdown",
   "metadata": {},
   "source": [
    "Having the final state and the co-state $[\\mathbf x_N, \\boldsymbol \\lambda_N]^T$, we could solve the Hamiltonian system backward to get the states and co-states on the whole time interval $[0,N-1]$."
   ]
  },
  {
   "cell_type": "markdown",
   "metadata": {},
   "source": [
    "Below is the implementation of the algorithm and then it is used for a concrete model."
   ]
  },
  {
   "cell_type": "code",
   "execution_count": 1,
   "metadata": {},
   "outputs": [],
   "source": [
    "using LinearAlgebra"
   ]
  },
  {
   "cell_type": "markdown",
   "metadata": {},
   "source": [
    "### Implementation of the algorithm in Julia"
   ]
  },
  {
   "cell_type": "code",
   "execution_count": 2,
   "metadata": {},
   "outputs": [
    {
     "data": {
      "text/plain": [
       "dlqr_fixed_final_state_bvp (generic function with 1 method)"
      ]
     },
     "execution_count": 2,
     "metadata": {},
     "output_type": "execute_result"
    }
   ],
   "source": [
    "function dlqr_fixed_final_state_bvp(A,B,Q,R,N,r0,rN)\n",
    "    n = size(A,1)\n",
    "    m = size(B,2)\n",
    "\n",
    "    H = [inv(A) A\\B/R*B'; Q/A A'+Q/A*B/R*B']    # discrete-time Hamiltonian matrix\n",
    "                                                # computation could perhaps be more efficient\n",
    "    M = H^N\n",
    "    M11 = M[1:n,1:n]\n",
    "    M12 = M[1:n,n+1:end]\n",
    "\n",
    "    λN = M12\\(r0-M11*rN)                        # costate at the final time\n",
    "                                                # major numerical trouble-maker\n",
    "    \n",
    "    σ = cond(M12)                               # condition number\n",
    "\n",
    "    xλ = [Vector{Float64}(undef, 2*n) for _ in 0:N]  # array of state-costate vectors\n",
    "    xλ[N+1] = [rN;λN]                           # concatenated final state and costate\n",
    "\n",
    "    for k=N:-1:1\n",
    "        xλ[k] = H*xλ[k+1]\n",
    "    end\n",
    "\n",
    "    x = [xλ[k][1:n] for k=1:N+1]                # it's an array of vectors\n",
    "    λ = [xλ[k][n+1:end] for k=1:N+1]            # note the index shift [0,N] -> [1,N+1]\n",
    "    u = [-R\\B'*λ[k] for k=1:N]                  # the N-th u not neded, just for [0,N-1]\n",
    "\n",
    "    x = [[y[i] for y in x] for i=1:n]           # reshaping the array of vectors\n",
    "    λ = [[ψ[i] for ψ in λ] for i=1:n]\n",
    "    u = [[v[i] for v in u] for i=1:m]\n",
    "\n",
    "    return x, λ, u, σ\n",
    "end"
   ]
  },
  {
   "cell_type": "markdown",
   "metadata": {},
   "source": [
    "### Example - discrete-time double integrator"
   ]
  },
  {
   "cell_type": "code",
   "execution_count": 3,
   "metadata": {},
   "outputs": [
    {
     "data": {
      "text/plain": [
       "2-element Array{Int64,1}:\n",
       " -2\n",
       "  2"
      ]
     },
     "execution_count": 3,
     "metadata": {},
     "output_type": "execute_result"
    }
   ],
   "source": [
    "A = [1.0 1.0; 0 1.0]\n",
    "B = [0; 1.1]\n",
    "\n",
    "Q = [1.0 0; 0 100]  # weight on the states\n",
    "R = 1               # weight on the control\n",
    "\n",
    "N = 8               # final time\n",
    "\n",
    "r0 = [-1,3]         # initial state\n",
    "rN = [-2,2]         # final state"
   ]
  },
  {
   "cell_type": "code",
   "execution_count": 15,
   "metadata": {},
   "outputs": [],
   "source": [
    "x, λ, u, σ = dlqr_fixed_final_state_bvp(A,B,Q,R,N,r0,rN);"
   ]
  },
  {
   "cell_type": "markdown",
   "metadata": {},
   "source": [
    "#### Plotting the simulation responses"
   ]
  },
  {
   "cell_type": "code",
   "execution_count": 5,
   "metadata": {},
   "outputs": [
    {
     "ename": "LoadError",
     "evalue": "syntax: unexpected \",\"",
     "output_type": "error",
     "traceback": [
      "syntax: unexpected \",\"",
      ""
     ]
    }
   ],
   "source": [
    "using Plots, LaTeXStrings\n",
    "pyplot()\n",
    "\n",
    "p1 = plot(0:N,x, label=[L\"x_1\" L\"x_2\"], ylabel=\"States\",legend=:topright,markershape=:circ,markersize=1,linetype=:steppost)  \n",
    "p2 = plot(0:N,λ, label=[L\"\\lambda_1\" L\"\\lambda_2\"], ylabel=\"Co-states\",legend=:topleft,markershape=:circ,markersize=1,linetype=:steppost)\n",
    "p3 = plot(0:N-1,u, label=[L\"u_1\" L\"u_2\"], ylabel=\"Control\",legend=:topleft,markershape=:circ,markersize=1,,linetype=:steppost,xlims=xlims(p2))\n",
    "plot(p1,p2,p3,layout=(3,1))"
   ]
  },
  {
   "cell_type": "markdown",
   "metadata": {},
   "source": [
    "#### Analyzing the conditioning"
   ]
  },
  {
   "cell_type": "markdown",
   "metadata": {},
   "source": [
    "Let's have a look at the condition number "
   ]
  },
  {
   "cell_type": "code",
   "execution_count": 6,
   "metadata": {},
   "outputs": [
    {
     "data": {
      "text/plain": [
       "1.3722834549407894e16"
      ]
     },
     "execution_count": 6,
     "metadata": {},
     "output_type": "execute_result"
    }
   ],
   "source": [
    "σ"
   ]
  },
  {
   "cell_type": "markdown",
   "metadata": {},
   "source": [
    "If it is more than just, say, 3 or 5 or so, we are in a trouble because the numerical computation of the final costate was ill-conditioned and could hardly be trusted. "
   ]
  },
  {
   "cell_type": "markdown",
   "metadata": {},
   "source": [
    "Ooops! For anything other than just a supershort time interval, the conditioning of the problem turns out very bad. Indeed, it is a general property of the Hamiltonian systems. We will have more to say on this topic while we discuss continuous-time systems (and their associated Hamiltonian systems). For those impatient, in the continous-time case it is related to the fundamental result calle [Liouville's theorem](https://en.wikipedia.org/wiki/Liouville%27s_theorem_(Hamiltonian)). Whether there exists a discrete-time counterpart, I do not know, but it appears that basing the solution of the optimal control on a numerical solution of the two-point boundary value problem does not look numerically reliable. This could be readily checked by computing the optimal control sequence on a longer time interval. The initial states computed as a part of the whole state sequence would then miss the originally required values."
   ]
  },
  {
   "cell_type": "markdown",
   "metadata": {},
   "source": [
    "## Gramian based solution to the minimum energy problem (assuming or choosing Q = 0)"
   ]
  },
  {
   "cell_type": "markdown",
   "metadata": {},
   "source": [
    "An alternative solution method can be devised if we impose that $\\mathbf Q = \\mathbf 0$. Since it is a designer's responsibility (and freedom) to choose the weighting matrices, let's examine this path. If furthermore $\\mathbf R = \\mathbf I$ for simplicity, the cost function is the total \"energy\" of the control signal"
   ]
  },
  {
   "cell_type": "markdown",
   "metadata": {},
   "source": [
    "\\begin{equation}\n",
    " J = \\sum_{k=0}^N \\mathbf u^\\text{T}_k\\;\\mathbf u_k.\n",
    "\\end{equation}"
   ]
  },
  {
   "cell_type": "markdown",
   "metadata": {},
   "source": [
    "Such criterion for optimization sounds justifiable in many cases. Very often we are only interested in bringing the system from some initial state to the final state and we do not care about the quality of the transients. We are only interested in minimizing the control efforts."
   ]
  },
  {
   "cell_type": "markdown",
   "metadata": {},
   "source": [
    "The optimal control sequence is given by"
   ]
  },
  {
   "cell_type": "markdown",
   "metadata": {},
   "source": [
    "\\begin{equation}\n",
    " \\mathbf u_k = \\mathbf R^{-1}\\mathbf B^\\text{T}(\\mathbf A^\\text{T})^{N-k-1}\\mathbf G^{-1}_{0,N,R}\\; (\\mathbf r_N-\\mathbf A^N\\mathbf x_0),\n",
    "\\end{equation}"
   ]
  },
  {
   "cell_type": "markdown",
   "metadata": {},
   "source": [
    "where G is a weighted reachability gramian on a finite time interval"
   ]
  },
  {
   "cell_type": "markdown",
   "metadata": {},
   "source": [
    "\\begin{equation}\n",
    " \\mathbf G_{0,N,R} = \\sum_{k=0}^{N-1} \\mathbf A^{N-1-k}\\mathbf B\\mathbf R^{-1}\\mathbf B^\\text{T}(\\mathbf A^\\text{T})^{N-1-k}.\n",
    "\\end{equation}"
   ]
  },
  {
   "cell_type": "markdown",
   "metadata": {},
   "source": [
    "Julia implementation follows. First, a function for computing the finite-time weighted reachability gramian."
   ]
  },
  {
   "cell_type": "code",
   "execution_count": 7,
   "metadata": {},
   "outputs": [
    {
     "data": {
      "text/plain": [
       "discrete_time_reachability_gramian_finite_time (generic function with 1 method)"
      ]
     },
     "execution_count": 7,
     "metadata": {},
     "output_type": "execute_result"
    }
   ],
   "source": [
    "function discrete_time_reachability_gramian_finite_time(A,B,R,N)\n",
    "    n = size(A,1)\n",
    "    G = zeros(Float64,n,n)\n",
    "    for k=0:N-1\n",
    "        AN1kB = A^(N-1-k)*B\n",
    "        G = G + AN1kB/R*AN1kB'\n",
    "    end\n",
    "    return G\n",
    "end"
   ]
  },
  {
   "cell_type": "markdown",
   "metadata": {},
   "source": [
    "An implementation of the formula for computing the optimal control sequence is then"
   ]
  },
  {
   "cell_type": "code",
   "execution_count": 8,
   "metadata": {},
   "outputs": [
    {
     "data": {
      "text/plain": [
       "discrete_time_minimum_energy_control (generic function with 1 method)"
      ]
     },
     "execution_count": 8,
     "metadata": {},
     "output_type": "execute_result"
    }
   ],
   "source": [
    "function discrete_time_minimum_energy_control(A,B,R,N,r0,rN)\n",
    "    n = size(A,1)\n",
    "    m = size(R,2)\n",
    "    G = discrete_time_reachability_gramian_finite_time(A,B,R,N)\n",
    "    GrA = G\\(rN-A^N*r0)                         # it is wise to compute this just once\n",
    "    u = [Vector{Float64}(undef, m) for _ in 0:N-1]\n",
    "    for k=0:N-1\n",
    "        u[k+1] .= R\\B'*(A')^(N-1-k)*GrA         # beware the standard +1 indexing issue\n",
    "        end                                     # also the scalar vs 1-element vector issue, that is why the dot\n",
    "    return u\n",
    "end"
   ]
  },
  {
   "cell_type": "code",
   "execution_count": 9,
   "metadata": {},
   "outputs": [
    {
     "data": {
      "text/plain": [
       "10-element Array{Array{Float64,1},1}:\n",
       " [-1.5454545454545456] \n",
       " [-1.2242424242424244] \n",
       " [-0.9030303030303031] \n",
       " [-0.581818181818182]  \n",
       " [-0.26060606060606095]\n",
       " [0.06060606060606033] \n",
       " [0.3818181818181815]  \n",
       " [0.7030303030303027]  \n",
       " [1.024242424242424]   \n",
       " [1.345454545454545]   "
      ]
     },
     "execution_count": 9,
     "metadata": {},
     "output_type": "execute_result"
    }
   ],
   "source": [
    "A = [1.0 1.0; 0 1.0]  # discrete-time integrator, but feel free to experiment with your own\n",
    "B = [0; 1.0]\n",
    "B = B[:,:]            # this is not Matlab - our B is originally a vector but we need to turn it into a matrix\n",
    "\n",
    "R = 1.0               # weight on the control\n",
    "N = 10                # final time\n",
    "\n",
    "r0 = [-1.0,3.0]       # initial state\n",
    "rN = [-2.0,2.0]       # final state\n",
    "\n",
    "u = discrete_time_minimum_energy_control(A,B,R,N,r0,rN)"
   ]
  },
  {
   "cell_type": "markdown",
   "metadata": {},
   "source": [
    "Now we simulate the response of the system to this control (input) sequence"
   ]
  },
  {
   "cell_type": "code",
   "execution_count": 10,
   "metadata": {},
   "outputs": [],
   "source": [
    "n = size(A,1)\n",
    "m = size(B,2)\n",
    "N = size(u)[1]                                  # assumes an array of vectors\n",
    "x = [Vector{Float64}(undef, n) for _ in 0:N]    # prepares an array of state vectors\n",
    "x[1] = r0\n",
    "for k=1:N                                       # just remember the [0,N-1] -> [1,N] shift\n",
    "    x[k+1] = A*x[k] + B*u[k]\n",
    "end"
   ]
  },
  {
   "cell_type": "markdown",
   "metadata": {},
   "source": [
    "The resulting state response is actually an array of vectors, that is, `x[5]` is a state vector at discrete time 5. We need to reformat this into a vector of arrays in order to plot them. "
   ]
  },
  {
   "cell_type": "code",
   "execution_count": 11,
   "metadata": {},
   "outputs": [
    {
     "data": {
      "text/plain": [
       "1-element Array{Array{Float64,1},1}:\n",
       " [-1.5454545454545456, -1.2242424242424244, -0.9030303030303031, -0.581818181818182, -0.26060606060606095, 0.06060606060606033, 0.3818181818181815, 0.7030303030303027, 1.024242424242424, 1.345454545454545]"
      ]
     },
     "execution_count": 11,
     "metadata": {},
     "output_type": "execute_result"
    }
   ],
   "source": [
    "x = [[y[i] for y in x] for i=1:n]\n",
    "u = [[z[i] for z in u] for i=1:m]"
   ]
  },
  {
   "cell_type": "code",
   "execution_count": 14,
   "metadata": {},
   "outputs": [
    {
     "data": {
      "image/png": "[encoded data removed]"
     },
     "execution_count": 14,
     "metadata": {},
     "output_type": "execute_result"
    }
   ],
   "source": [
    "using Plots, LaTeXStrings\n",
    "pyplot()\n",
    "\n",
    "p1 = plot(0:N,x, label=[L\"x_1\" L\"x_2\"], ylabel=\"States\",legend=:topright,markershape=:circ,markersize=1,linetype=:steppost)\n",
    "p2 = plot(0:N-1,u, label=\"u\", ylabel=\"Control\",legend=:topleft,markershape=:circ,markersize=1,linetype=:steppost,xlims=xlims(p1))\n",
    "\n",
    "plot(p1,p2,layout=(2,1))"
   ]
  },
  {
   "cell_type": "markdown",
   "metadata": {},
   "source": [
    "## References\n",
    "\n",
    "[1] Lewis, Frank, Draguna Vrabie, and Vassilis L. Syrmos. Optimal Control. 3rd edition. Hoboken: Wiley, 2012.\n",
    "\n",
    "[2] Rawlings, James B., David Q. Mayne, and Moritz M. Diehl. Model Predictive Control: Theory, Computation, and Design. 2nd ed. Madison, Wisconsin: Nob Hill Publishing, LLC, 2017."
   ]
  },
  {
   "cell_type": "code",
   "execution_count": null,
   "metadata": {},
   "outputs": [],
   "source": []
  }
 ],
 "metadata": {
  "@webio": {
   "lastCommId": null,
   "lastKernelId": null
  },
  "kernelspec": {
   "display_name": "Julia 1.3.1",
   "language": "julia",
   "name": "julia-1.3"
  },
  "language_info": {
   "file_extension": ".jl",
   "mimetype": "application/julia",
   "name": "julia",
   "version": "1.3.1"
  }
 },
 "nbformat": 4,
 "nbformat_minor": 4
}
