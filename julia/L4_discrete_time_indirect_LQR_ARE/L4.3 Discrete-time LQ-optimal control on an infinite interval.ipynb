{
 "cells": [
  {
   "cell_type": "markdown",
   "metadata": {},
   "source": [
    "# Discrete-time LQ-optimal control on an infinite interval"
   ]
  },
  {
   "cell_type": "markdown",
   "metadata": {},
   "source": [
    "The goal is to find a sequence $\\mathbf{u}_{0},\\ldots,\\mathbf{u}_{N-1},\\mathbf{u}_{N},\\ldots$ that yields the minimum in the following problem"
   ]
  },
  {
   "cell_type": "markdown",
   "metadata": {},
   "source": [
    "\\begin{align*}\n",
    "\\min_{\\mathbf{x}_{1},\\ldots,\\mathbf{x}_{N},\\mathbf{u}_{0},\\ldots,\\mathbf{u}_{N-1}} &\\; \\frac{1}{2}\\sum_{k=0}^{\\infty}\\left[\\mathbf x_k^T \\mathbf Q \\mathbf x_k+\\mathbf u_k^T \\mathbf R\\mathbf u_k\\right]\\\\\n",
    "\\text{s.t. } &\\; \\mathbf x_{k+1} = \\mathbf A \\mathbf x_{k} + \\mathbf B \\mathbf u_k,\\\\\n",
    "& \\mathbf x_0 = \\mathbf r_0,\\\\\n",
    "& \\mathbf Q\\geq 0, \\mathbf R>0.\n",
    "\\end{align*}"
   ]
  },
  {
   "cell_type": "markdown",
   "metadata": {},
   "source": [
    "Obviously, finding an infinite sequence is not quite feasible as a search over the (infinite number of the) infinite values. Instead, some trick needs to be invoked. Here the trick is to extend the discrete-time Riccati equation over an infinite interval and turn it into a (discrete-time) algebraic Riccati equation (DARE)."
   ]
  },
  {
   "cell_type": "markdown",
   "metadata": {},
   "source": [
    "\\begin{equation}\n",
    "\\mathbf S=\\mathbf A^T\\left[\\mathbf S-\\mathbf S\\mathbf B(\\mathbf B^T\\mathbf S\\mathbf B+\\mathbf R)^{-1}\\mathbf B^T\\mathbf S\\right]\\mathbf A+\\mathbf Q\n",
    "\\end{equation}"
   ]
  },
  {
   "cell_type": "markdown",
   "metadata": {},
   "source": [
    "This equation can be solved in two ways. First, as the limiting solution to the discrete-time (recurrent) Riccati equation. Second, directly as a special (in fact quadratic) equation with matrices. Below we demonstrate both."
   ]
  },
  {
   "cell_type": "markdown",
   "metadata": {},
   "source": [
    "Once we have the solution to DARE, the optimal control is given as"
   ]
  },
  {
   "cell_type": "markdown",
   "metadata": {},
   "source": [
    "\\begin{equation}\n",
    " \\mathbf K = (\\mathbf R + \\mathbf B^T\\mathbf S\\mathbf B)^{-1}\\mathbf B^T\\mathbf S\\mathbf A.\n",
    "\\end{equation}"
   ]
  },
  {
   "cell_type": "markdown",
   "metadata": {},
   "source": [
    "## Solving DARE as a limit of discrete-time Riccati equation "
   ]
  },
  {
   "cell_type": "markdown",
   "metadata": {},
   "source": [
    "We reuse the code developed previously"
   ]
  },
  {
   "cell_type": "code",
   "execution_count": 8,
   "metadata": {},
   "outputs": [
    {
     "data": {
      "text/plain": [
       "dre (generic function with 1 method)"
      ]
     },
     "execution_count": 8,
     "metadata": {},
     "output_type": "execute_result"
    }
   ],
   "source": [
    "function dre(A,B,Q,R,SN,N)\n",
    "    nx = size(A,1)\n",
    "    nu = size(B,2)\n",
    "    S = [Matrix{Float64}(undef, nx, nx) for _ in 0:N]\n",
    "    K = [Matrix{Float64}(undef, nu, nx) for _ in 0:N-1]\n",
    "    S[end] = SN # note that unlike in the mathematical formula, here the final time is at index N+1\n",
    "    for k = N:-1:1\n",
    "        K[k] = (R+B'*S[k+1]*B)\\B'*S[k+1]*A\n",
    "        S[k] = A'*S[k+1]*(A-B*K[k])+Q\n",
    "    end\n",
    "    return S,K\n",
    "end"
   ]
  },
  {
   "cell_type": "markdown",
   "metadata": {},
   "source": [
    "Now some data (system and the cost)"
   ]
  },
  {
   "cell_type": "code",
   "execution_count": 10,
   "metadata": {},
   "outputs": [
    {
     "data": {
      "text/plain": [
       "2×2 Array{Float64,2}:\n",
       " 1.0  0.0\n",
       " 0.0  1.0"
      ]
     },
     "execution_count": 10,
     "metadata": {},
     "output_type": "execute_result"
    }
   ],
   "source": [
    "A = [1.0 2; 3 4]\n",
    "B = [5.0 6; 7 8]\n",
    "Q = [1.0 0; 0 100]\n",
    "R = [1.0 0; 0 1]"
   ]
  },
  {
   "cell_type": "code",
   "execution_count": 11,
   "metadata": {},
   "outputs": [
    {
     "data": {
      "text/plain": [
       "2×2 Array{Float64,2}:\n",
       " 1.0    0.0\n",
       " 0.0  100.0"
      ]
     },
     "execution_count": 11,
     "metadata": {},
     "output_type": "execute_result"
    }
   ],
   "source": [
    "SN = [1.0 0; 0 100]"
   ]
  },
  {
   "cell_type": "markdown",
   "metadata": {},
   "source": [
    "Let's set the length of the time interal high enough. In principle, a full algorithm should do some iterations untill no change is observed."
   ]
  },
  {
   "cell_type": "code",
   "execution_count": 17,
   "metadata": {},
   "outputs": [
    {
     "data": {
      "text/plain": [
       "100"
      ]
     },
     "execution_count": 17,
     "metadata": {},
     "output_type": "execute_result"
    }
   ],
   "source": [
    "N = 100"
   ]
  },
  {
   "cell_type": "code",
   "execution_count": 18,
   "metadata": {},
   "outputs": [],
   "source": [
    "S,K = dre(A,B,Q,R,SN,N);"
   ]
  },
  {
   "cell_type": "code",
   "execution_count": 20,
   "metadata": {},
   "outputs": [
    {
     "data": {
      "text/plain": [
       "2×2 Array{Float64,2}:\n",
       " 10.8225     7.69816\n",
       "  7.69816  106.058  "
      ]
     },
     "execution_count": 20,
     "metadata": {},
     "output_type": "execute_result"
    }
   ],
   "source": [
    "S∞ = S[1]"
   ]
  },
  {
   "cell_type": "markdown",
   "metadata": {},
   "source": [
    "Keep an eye on this value untill we provide another solution method."
   ]
  },
  {
   "cell_type": "markdown",
   "metadata": {},
   "source": [
    "## Solving DARE directly as an algebraic equation"
   ]
  },
  {
   "cell_type": "markdown",
   "metadata": {},
   "source": [
    "### Scalar DARE"
   ]
  },
  {
   "cell_type": "markdown",
   "metadata": {},
   "source": [
    "The fact that DARE is actually a quadratic equation need not be immediately obvious. Let's have a look at the scalar case first"
   ]
  },
  {
   "cell_type": "markdown",
   "metadata": {},
   "source": [
    "\\begin{equation}\n",
    " s = q + a^2s - \\frac{a^2b^2s}{b^2s+r},\n",
    "\\end{equation}"
   ]
  },
  {
   "cell_type": "markdown",
   "metadata": {},
   "source": [
    "which by multiplying both sides by the denominator turns into"
   ]
  },
  {
   "cell_type": "markdown",
   "metadata": {},
   "source": [
    "\\begin{equation}\n",
    " s(b^2s+r) = q(b^2s+r) + a^2s(b^2s+r) - a^2b^2s.\n",
    "\\end{equation}"
   ]
  },
  {
   "cell_type": "markdown",
   "metadata": {},
   "source": [
    "Grouping together the coefficients with equal powers of $s$ yields the quadratic equation in the standard form"
   ]
  },
  {
   "cell_type": "markdown",
   "metadata": {},
   "source": [
    "\\begin{equation}\n",
    "b^2s^2 + (r - a^2r - b^2q)s - rq =0.\n",
    "\\end{equation}"
   ]
  },
  {
   "cell_type": "code",
   "execution_count": 2,
   "metadata": {},
   "outputs": [],
   "source": [
    "a = 1/2;\n",
    "b = 1;\n",
    "q = 1;\n",
    "r = 1;"
   ]
  },
  {
   "cell_type": "code",
   "execution_count": 3,
   "metadata": {},
   "outputs": [
    {
     "data": {
      "text/plain": [
       "-1"
      ]
     },
     "execution_count": 3,
     "metadata": {},
     "output_type": "execute_result"
    }
   ],
   "source": [
    "s2 = b^2\n",
    "s1 = (r - a^2*r - b^2*q)\n",
    "s0 = -r*q"
   ]
  },
  {
   "cell_type": "code",
   "execution_count": 4,
   "metadata": {},
   "outputs": [],
   "source": [
    "using Polynomials"
   ]
  },
  {
   "cell_type": "code",
   "execution_count": 5,
   "metadata": {},
   "outputs": [
    {
     "data": {
      "text/html": [
       "&#45;1.0 &#45; 0.25&#8729;s &#43; 1.0&#8729;s<sup>2</sup>"
      ],
      "text/latex": [
       "$-1.0 - 0.25\\cdot s + 1.0\\cdot s^{2}$"
      ],
      "text/plain": [
       "Poly(-1.0 - 0.25*s + 1.0*s^2)"
      ]
     },
     "execution_count": 5,
     "metadata": {},
     "output_type": "execute_result"
    }
   ],
   "source": [
    "a = Poly([s0, s1, s2],:s)"
   ]
  },
  {
   "cell_type": "code",
   "execution_count": 6,
   "metadata": {},
   "outputs": [
    {
     "data": {
      "text/plain": [
       "2-element Array{Float64,1}:\n",
       " -0.8827822185373188\n",
       "  1.1327822185373186"
      ]
     },
     "execution_count": 6,
     "metadata": {},
     "output_type": "execute_result"
    }
   ],
   "source": [
    "s = roots(a)"
   ]
  },
  {
   "cell_type": "markdown",
   "metadata": {},
   "source": [
    "The positive solution is the second one, that is"
   ]
  },
  {
   "cell_type": "code",
   "execution_count": 7,
   "metadata": {},
   "outputs": [
    {
     "data": {
      "text/plain": [
       "1.1327822185373186"
      ]
     },
     "execution_count": 7,
     "metadata": {},
     "output_type": "execute_result"
    }
   ],
   "source": [
    "s[2]"
   ]
  },
  {
   "cell_type": "markdown",
   "metadata": {},
   "source": [
    "While we are at it, let's explore the solvability conditions a bit.\n",
    "\n",
    "Trivial analysis shows that for $q=0$, one of the roots is $s_1=0$ and the other is always $s_2<0$. Hence the solution of DARE that represents the steady-state solution of the recurrent Riccati equation is $s=0$. As a consequence, the optimal state-feedback gain is $k=0$. For an unstable system this would be unacceptable but for a stable system this seems acceptable: the system is stable even withouth the control, therefore, when the state is not penalized in the criterion at all ($q=0$), the optimal strategy is not regulating at all. Mathematically correct. Nonethelesss, from an engineering viewpoint we may be quite unhappy because the role of the feedback regulator is also to attenuate the influence of external disturbances. Our optimal state-feedback regulator does not help at all in these situation. That is why we may typically want to require a positive definite solution of DARE. And that is generally guaranteed if $(\\mathbf A,\\mathbf Q)$ is observable and not just detectable."
   ]
  },
  {
   "cell_type": "markdown",
   "metadata": {},
   "source": [
    "### Matrix DARE"
   ]
  },
  {
   "cell_type": "markdown",
   "metadata": {},
   "source": [
    "We use the implementation of a solver for DARE available in the [ControlSystems](https://github.com/JuliaControl/ControlSystems.jl) package. A more recent alternative is the [MatrixEquations](https://github.com/andreasvarga/MatrixEquations.jl) package. "
   ]
  },
  {
   "cell_type": "code",
   "execution_count": 25,
   "metadata": {},
   "outputs": [],
   "source": [
    "using ControlSystems"
   ]
  },
  {
   "cell_type": "code",
   "execution_count": 26,
   "metadata": {},
   "outputs": [
    {
     "data": {
      "text/plain": [
       "2×2 Array{Float64,2}:\n",
       " 10.8225     7.69816\n",
       "  7.69816  106.058  "
      ]
     },
     "execution_count": 26,
     "metadata": {},
     "output_type": "execute_result"
    }
   ],
   "source": [
    "S = dare(A,B,Q,R)"
   ]
  },
  {
   "cell_type": "markdown",
   "metadata": {},
   "source": [
    "Now check if this result agrees with the limiting solution to the recurrent Riccati equation."
   ]
  },
  {
   "cell_type": "code",
   "execution_count": 24,
   "metadata": {},
   "outputs": [
    {
     "data": {
      "text/plain": [
       "2×2 Array{Float64,2}:\n",
       " 3.56692e-12  -6.0485e-12 \n",
       " 2.77822e-12  -4.78906e-12"
      ]
     },
     "execution_count": 24,
     "metadata": {},
     "output_type": "execute_result"
    }
   ],
   "source": [
    "S-S∞"
   ]
  },
  {
   "cell_type": "markdown",
   "metadata": {},
   "source": [
    "## Optimal state feedback"
   ]
  },
  {
   "cell_type": "markdown",
   "metadata": {},
   "source": [
    "Whichever way we solved the DARE equations, once we have it, the LTI state feedback is"
   ]
  },
  {
   "cell_type": "code",
   "execution_count": 27,
   "metadata": {},
   "outputs": [
    {
     "data": {
      "text/plain": [
       "2×2 Array{Float64,2}:\n",
       "  1.32519    1.1356  \n",
       " -0.799127  -0.505034"
      ]
     },
     "execution_count": 27,
     "metadata": {},
     "output_type": "execute_result"
    }
   ],
   "source": [
    "K = (B'*S*B + R)\\(B'*S*A)"
   ]
  },
  {
   "cell_type": "markdown",
   "metadata": {},
   "source": [
    "Done. But a more complete design (including simulations and discussions of a choice of the weight matrices $\\mathbf Q$ and $\\mathbf R$) is demonstrated in the next notebook."
   ]
  },
  {
   "cell_type": "markdown",
   "metadata": {},
   "source": [
    "## References\n",
    "\n",
    "[1] Lewis, Frank, Draguna Vrabie, and Vassilis L. Syrmos. Optimal Control. 3rd edition. Hoboken: Wiley, 2012.\n",
    "\n",
    "[2] Rawlings, James B., David Q. Mayne, and Moritz M. Diehl. Model Predictive Control: Theory, Computation, and Design. 2nd ed. Madison, Wisconsin: Nob Hill Publishing, LLC, 2017."
   ]
  },
  {
   "cell_type": "code",
   "execution_count": null,
   "metadata": {},
   "outputs": [],
   "source": []
  }
 ],
 "metadata": {
  "kernelspec": {
   "display_name": "Julia 1.3.1",
   "language": "julia",
   "name": "julia-1.3"
  },
  "language_info": {
   "file_extension": ".jl",
   "mimetype": "application/julia",
   "name": "julia",
   "version": "1.3.1"
  }
 },
 "nbformat": 4,
 "nbformat_minor": 4
}
