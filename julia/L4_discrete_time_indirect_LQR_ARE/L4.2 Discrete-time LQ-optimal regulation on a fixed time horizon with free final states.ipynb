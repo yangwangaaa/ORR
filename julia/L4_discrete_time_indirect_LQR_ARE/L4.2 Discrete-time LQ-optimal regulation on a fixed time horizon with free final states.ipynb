{
 "cells": [
  {
   "cell_type": "markdown",
   "metadata": {},
   "source": [
    "# Discrete-time LQ-optimal regulation (LQR) on a fixed time horizon with free final states"
   ]
  },
  {
   "cell_type": "markdown",
   "metadata": {},
   "source": [
    "The goal is to find a sequence $\\mathbf{u}_{0},\\ldots,\\mathbf{u}_{N-1}$ that yields the minimum in the following problem"
   ]
  },
  {
   "cell_type": "markdown",
   "metadata": {},
   "source": [
    "\\begin{align*}\n",
    "\\min_{\\mathbf{x}_{1},\\ldots,\\mathbf{x}_{N},\\mathbf{u}_{0},\\ldots,\\mathbf{u}_{N-1}} &\\; \\frac{1}{2}\\mathbf x_N^T\\mathbf S_N\\mathbf x_N + \\frac{1}{2}\\sum_{k=0}^{N-1}\\left[\\mathbf x_k^T \\mathbf Q \\mathbf x_k+\\mathbf u_k^T \\mathbf R\\mathbf u_k\\right]\\\\\n",
    "\\text{s.t. } &\\; \\mathbf x_{k+1} = \\mathbf A \\mathbf x_{k} + \\mathbf B \\mathbf u_k,\\\\\n",
    "& \\mathbf x_0 = \\mathbf r_0,\\\\\n",
    "& \\mathbf S_N\\geq 0, \\mathbf Q\\geq 0, \\mathbf R>0.\n",
    "\\end{align*}"
   ]
  },
  {
   "cell_type": "markdown",
   "metadata": {},
   "source": [
    "We just remind the reader that the current formulation pushed the states towards the zero and for this control problem the terminology **regulation** is widely used (as opposed to **tracking** described elsewhere)"
   ]
  },
  {
   "cell_type": "markdown",
   "metadata": {},
   "source": [
    "## Two-point boundary value problem"
   ]
  },
  {
   "cell_type": "markdown",
   "metadata": {},
   "source": [
    "The necessary conditions of optimality come in the form of two recurrent equations (identical as in the fixed final state case)"
   ]
  },
  {
   "cell_type": "markdown",
   "metadata": {},
   "source": [
    "\\begin{align}\n",
    " \\mathbf x_{k+1} &=\\mathbf A\\mathbf x_k-\\mathbf B\\mathbf R^{-1}\\mathbf B^T\\boldsymbol\\lambda_{k+1},\\\\\n",
    " \\boldsymbol\\lambda_k &= \\mathbf Q\\mathbf x_k+\\mathbf A^T\\boldsymbol\\lambda_{k+1}, \n",
    "\\end{align}"
   ]
  },
  {
   "cell_type": "markdown",
   "metadata": {},
   "source": [
    "together with the boundary conditions"
   ]
  },
  {
   "cell_type": "markdown",
   "metadata": {},
   "source": [
    "\\begin{align}\n",
    "\\mathbf S_N \\mathbf x_N &= \\boldsymbol \\lambda_N,\\\\\n",
    "\\mathbf x_0 &= \\mathbf r_0.\n",
    "\\end{align}"
   ]
  },
  {
   "cell_type": "markdown",
   "metadata": {},
   "source": [
    "Once the sequence of states and costates is known, the optimal control sequence is obtained through"
   ]
  },
  {
   "cell_type": "markdown",
   "metadata": {},
   "source": [
    "$$\\mathbf u_k = -\\mathbf R^{-1}\\mathbf B^T\\boldsymbol\\lambda_{k+1},$$"
   ]
  },
  {
   "cell_type": "markdown",
   "metadata": {},
   "source": [
    "which, of course, assumes nonsingularity of $\\mathbf R$, but this was assumed in the very formulation of the optimal control problem above."
   ]
  },
  {
   "cell_type": "markdown",
   "metadata": {},
   "source": [
    "The above formulated two-point boundary value problem can be numerically tackled in a similar way as we approached its fixed final state counterpart, but we do not pursue it here. We leant the reason why attempting to solve the fixed final state problem - the underlying discrete-time Hamiltonian problem is numerically ill-conditioned. Instead, we focus on the idea of transforming the two-point boundary value problem into both conceptually and numerically much easier initial value problem. We describe it next. "
   ]
  },
  {
   "cell_type": "markdown",
   "metadata": {},
   "source": [
    "## Discrete-time (recurrent) Riccati equation"
   ]
  },
  {
   "cell_type": "markdown",
   "metadata": {},
   "source": [
    "Upon solving the following (matrix) difference (or recurrent) equation"
   ]
  },
  {
   "cell_type": "markdown",
   "metadata": {},
   "source": [
    "\\begin{equation*}\n",
    " \\mathbf S_k = \\mathbf Q+\\mathbf A^T\\mathbf S_{k+1}(\\mathbf I+\\mathbf B\\mathbf R^{-1}\\mathbf B^T\\mathbf S_{k+1})^{-1}\\mathbf A\n",
    "\\end{equation*}"
   ]
  },
  {
   "cell_type": "markdown",
   "metadata": {},
   "source": [
    "initialized with $\\mathbf S_N$ at the end of the time interval [0,N], we can compute the optimal control through"
   ]
  },
  {
   "cell_type": "markdown",
   "metadata": {},
   "source": [
    "\\begin{equation*}\n",
    "\\mathbf u_k =\\underbrace{(\\mathbf R + \\mathbf B^T\\mathbf S_{k+1}\\mathbf B)^{-1}\\mathbf B^T\\mathbf S_{k+1}\\mathbf A}_{\\mathbf K_k}\\mathbf x_{k},\n",
    "\\end{equation*}"
   ]
  },
  {
   "cell_type": "markdown",
   "metadata": {},
   "source": [
    "\n",
    "from which it is apparent that the optimal control sequence is actually generated through a time-varying state feedback (labelled $\\mathbf K_k$)."
   ]
  },
  {
   "cell_type": "markdown",
   "metadata": {},
   "source": [
    "Another - and numerically quite plausible - version of the iteration is"
   ]
  },
  {
   "cell_type": "markdown",
   "metadata": {},
   "source": [
    "\\begin{align}\n",
    " \\mathbf K_k &= \\left(\\mathbf B^T \\mathbf S_{k+1}\\mathbf B+\\mathbf R\\right)^{-1}\\mathbf B^T \\mathbf S_{k+1}\\mathbf A\\\\\n",
    " \\mathbf S_k &= \\mathbf A^T \\mathbf S_{k+1}(\\mathbf A-\\mathbf B\\mathbf K_k) + \\mathbf Q.\n",
    "\\end{align} "
   ]
  },
  {
   "cell_type": "markdown",
   "metadata": {},
   "source": [
    "in which both $\\mathbf S_k$ and $\\mathbf K_k$ are solved in one iteration. This is the version we are going to implement."
   ]
  },
  {
   "cell_type": "code",
   "execution_count": 1,
   "metadata": {},
   "outputs": [
    {
     "data": {
      "text/plain": [
       "dre (generic function with 1 method)"
      ]
     },
     "execution_count": 1,
     "metadata": {},
     "output_type": "execute_result"
    }
   ],
   "source": [
    "function dre(A,B,Q,R,SN,N)\n",
    "    nx = size(A,1)\n",
    "    nu = size(B,2)\n",
    "    S = [Matrix{Float64}(undef, nx, nx) for _ in 0:N]\n",
    "    K = [Matrix{Float64}(undef, nu, nx) for _ in 0:N-1]\n",
    "    S[end] = SN                # note that unlike in the mathematical formula, here the final time is at index N+1\n",
    "    for k = N:-1:1\n",
    "        K[k] = (R+B'*S[k+1]*B)\\B'*S[k+1]*A\n",
    "        S[k] = A'*S[k+1]*(A-B*K[k])+Q\n",
    "    end\n",
    "    return S,K\n",
    "end"
   ]
  },
  {
   "cell_type": "code",
   "execution_count": 2,
   "metadata": {},
   "outputs": [
    {
     "data": {
      "text/plain": [
       "30"
      ]
     },
     "execution_count": 2,
     "metadata": {},
     "output_type": "execute_result"
    }
   ],
   "source": [
    "A = [1.0 2; 3 4]\n",
    "B = [5.0 6; 7 8]\n",
    "Q = [1.0 0; 0 100]\n",
    "R = [1.0 0; 0 1]\n",
    "SN = [1.0 0; 0 100]\n",
    "N = 30"
   ]
  },
  {
   "cell_type": "code",
   "execution_count": 3,
   "metadata": {},
   "outputs": [],
   "source": [
    "S,K = dre(A,B,Q,R,SN,N);"
   ]
  },
  {
   "cell_type": "markdown",
   "metadata": {},
   "source": [
    "We plot only some element, say, the (1,1) element of the $\\mathbf S_k$ and $\\mathbf K_k$ matrices below. The primary motivation is to see that if the time interval is long enough, they keep some constant value for most of the interval and only exhibit some changes towards the end of the inteval."
   ]
  },
  {
   "cell_type": "code",
   "execution_count": 4,
   "metadata": {},
   "outputs": [
    {
     "data": {
      "image/png": "[encoded data removed]"
     },
     "execution_count": 4,
     "metadata": {},
     "output_type": "execute_result"
    }
   ],
   "source": [
    "using Plots, LaTeXStrings\n",
    "pyplot()\n",
    "p1 = plot(0:1:(N-1),[K[i][1,1] for i=1:length(K)],xlabel=\"k\",ylabel=\"State-feedback gain\",label=\"K11\",markershape=:circ,markersize=1,linetype=:steppost)\n",
    "p2 = plot(0:1:N,[S[i][1,1] for i=1:length(S)],xlabel=\"k\",ylabel=\"Ricatti equation solution\",label=\"S11\",markershape=:circ,markersize=1,linetype=:steppost,xlims=xlims(p1))\n",
    "plot(p1,p2,layout=(2,1))"
   ]
  },
  {
   "cell_type": "markdown",
   "metadata": {},
   "source": [
    "### Scalar case (first-order system)"
   ]
  },
  {
   "cell_type": "markdown",
   "metadata": {},
   "source": [
    "Just in order to play a bit more conveniently with simple examples, let's consider scalar case of the full problem described and solved above."
   ]
  },
  {
   "cell_type": "code",
   "execution_count": 5,
   "metadata": {},
   "outputs": [
    {
     "data": {
      "text/plain": [
       "scalarDRE (generic function with 1 method)"
      ]
     },
     "execution_count": 5,
     "metadata": {},
     "output_type": "execute_result"
    }
   ],
   "source": [
    "function scalarDRE(a,b,q,r,sN,N)\n",
    "    s = Vector{Float64}(undef,N+1)          # the S[1] will then not be needed (even defined) but the indices will fit\n",
    "    k = Vector{Float64}(undef,N)\n",
    "    s[end] = sN\n",
    "    for i=N:-1:1\n",
    "        k[i]=(a*b*s[i+1])/(r + s[i+1]*b^2);\n",
    "        s[i]= a*s[i+1]*(a-b*k[i]) + q;\n",
    "    end\n",
    "    return s,k\n",
    "end"
   ]
  },
  {
   "cell_type": "code",
   "execution_count": 6,
   "metadata": {},
   "outputs": [],
   "source": [
    "a = 1.05;\n",
    "b = 0.01;\n",
    "q = 1000;\n",
    "r = 10;\n",
    "x0 = 10;\n",
    "sN = 50;\n",
    "N = 50;"
   ]
  },
  {
   "cell_type": "code",
   "execution_count": 7,
   "metadata": {},
   "outputs": [],
   "source": [
    "s,k = scalarDRE(a,b,q,r,sN,N);"
   ]
  },
  {
   "cell_type": "markdown",
   "metadata": {},
   "source": [
    "We plot the computed solutions to the Riccati equation and also the time varying state-feedback (Kalman) gains. Note that we now label the time axes with `i` since the scalar gain is naturally labele with `k`."
   ]
  },
  {
   "cell_type": "code",
   "execution_count": 8,
   "metadata": {},
   "outputs": [
    {
     "data": {
      "image/png": "[encoded data removed]"
     },
     "execution_count": 8,
     "metadata": {},
     "output_type": "execute_result"
    }
   ],
   "source": [
    "p1 = plot(0:1:N,s,xlabel=\"i\",ylabel=\"RE solution\",label=\"s\",markershape=:circ,markersize=1,linetype=:steppost)\n",
    "p2 = plot(0:1:N-1,k,xlabel=\"i\",ylabel=\"State-feedback gain\",label=\"k\",markershape=:circ,markersize=1,linetype=:steppost,xlims=xlims(p1))\n",
    "plot(p1,p2,layout=(2,1))"
   ]
  },
  {
   "cell_type": "markdown",
   "metadata": {},
   "source": [
    "Now we are ready to simulate a response of a discrete-time system with the time-varying feedback gain"
   ]
  },
  {
   "cell_type": "code",
   "execution_count": 9,
   "metadata": {},
   "outputs": [],
   "source": [
    "x = Vector{Float64}(undef,N+1)\n",
    "u = Vector{Float64}(undef,N)\n",
    "\n",
    "x[1]=x0;\n",
    "\n",
    "for i=1:N\n",
    "    u[i] = -k[i]*x[i];\n",
    "    x[i+1] = a*x[i] + b*u[i];\n",
    "end"
   ]
  },
  {
   "cell_type": "code",
   "execution_count": 10,
   "metadata": {},
   "outputs": [
    {
     "data": {
      "image/png": "[encoded data removed]"
     },
     "execution_count": 10,
     "metadata": {},
     "output_type": "execute_result"
    }
   ],
   "source": [
    "plot(0:1:N,x,xlabel=\"i\",ylabel=\"State\",label=\"x\",markershape=:circ,markersize=1,linetype=:steppost)"
   ]
  },
  {
   "cell_type": "markdown",
   "metadata": {},
   "source": [
    "## References\n",
    "\n",
    "[1] Lewis, Frank, Draguna Vrabie, and Vassilis L. Syrmos. Optimal Control. 3rd edition. Hoboken: Wiley, 2012.\n",
    "\n",
    "[2] Rawlings, James B., David Q. Mayne, and Moritz M. Diehl. Model Predictive Control: Theory, Computation, and Design. 2nd ed. Madison, Wisconsin: Nob Hill Publishing, LLC, 2017."
   ]
  },
  {
   "cell_type": "code",
   "execution_count": null,
   "metadata": {},
   "outputs": [],
   "source": []
  }
 ],
 "metadata": {
  "@webio": {
   "lastCommId": null,
   "lastKernelId": null
  },
  "kernelspec": {
   "display_name": "Julia 1.3.1",
   "language": "julia",
   "name": "julia-1.3"
  },
  "language_info": {
   "file_extension": ".jl",
   "mimetype": "application/julia",
   "name": "julia",
   "version": "1.3.1"
  }
 },
 "nbformat": 4,
 "nbformat_minor": 4
}
